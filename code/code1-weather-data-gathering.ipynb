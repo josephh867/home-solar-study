{
 "cells": [
  {
   "cell_type": "markdown",
   "id": "1b467c79",
   "metadata": {},
   "source": [
    "# ![](https://ga-dash.s3.amazonaws.com/production/assets/logo-9f88ae6c9c3871690e33280fcf557f33.png) Group Project: Predicting Solar Power Generation with Weather Forecasting\n",
    "By: Garrett Hart, Joseph Hicks, and Corina Lentz\n",
    "\n",
    "---"
   ]
  },
  {
   "cell_type": "markdown",
   "id": "88c2e3c5",
   "metadata": {},
   "source": [
    "## Weather Data Gathering\n",
    "---\n",
    "\n",
    "Since we have data on solar panel output from an array in Antwerp, Belgium, we will now require daily weather data to create the features we will use to predict solar panel output. NCEI doesn't have particularly detailed weather information on Antwerp (the nearest station is in Brussels), so instead I created a [World Weather Online](https://www.worldweatheronline.com/) account and utilized their 60 day free trial to gather the needed data. The documentation for the API can be found [here](https://www.worldweatheronline.com/developer/api/docs/historical-weather-api.aspx#qparameter). **The API documentation also includes a data dictionary.**"
   ]
  },
  {
   "cell_type": "code",
   "execution_count": 1,
   "id": "6f1b70cc",
   "metadata": {},
   "outputs": [],
   "source": [
    "# We need a base url to start our queries\n",
    "base_url = 'https://api.worldweatheronline.com/premium/v1/past-weather.ashx'"
   ]
  },
  {
   "cell_type": "code",
   "execution_count": 2,
   "id": "91405513",
   "metadata": {},
   "outputs": [],
   "source": [
    "# Imports\n",
    "import requests\n",
    "import pandas as pd\n",
    "import matplotlib.pyplot as plt\n",
    "import json\n",
    "import time"
   ]
  },
  {
   "cell_type": "code",
   "execution_count": 3,
   "id": "b448c113",
   "metadata": {},
   "outputs": [],
   "source": [
    "# Saving the credentials JSON file - this was made from a now deleted dictionary with the API key\n",
    "# with open('credentials.json', 'w') as f:\n",
    "#     json.dump(creds, f, ensure_ascii = False)"
   ]
  },
  {
   "cell_type": "code",
   "execution_count": 3,
   "id": "94a68506",
   "metadata": {},
   "outputs": [],
   "source": [
    "# Load the API key\n",
    "# with open('credentials.json') as credentials:    \n",
    "#     creds = json.load(credentials)\n",
    "    \n",
    "# key = creds['key']"
   ]
  },
  {
   "cell_type": "code",
   "execution_count": 4,
   "id": "c8bab2b7",
   "metadata": {},
   "outputs": [
    {
     "data": {
      "text/plain": [
       "200"
      ]
     },
     "execution_count": 4,
     "metadata": {},
     "output_type": "execute_result"
    }
   ],
   "source": [
    "# Make the request - just to get a sense of what the resulting data will look like\n",
    "res = requests.get(url= base_url, params = {\n",
    "    'q'        : 'Antwerp,Belgium',\n",
    "    'date'     : '2011-10-26',\n",
    "    'enddate'  : '2011-11-26',\n",
    "    'key'      : key,\n",
    "    'tp'       : '12', # This gives us weather conditions at noon and midnight\n",
    "    'isDayTime': 'yes', \n",
    "    'format'   : 'json'\n",
    "})\n",
    "\n",
    "res.status_code"
   ]
  },
  {
   "cell_type": "code",
   "execution_count": 5,
   "id": "283e1e35",
   "metadata": {},
   "outputs": [],
   "source": [
    "json = res.json()"
   ]
  },
  {
   "cell_type": "code",
   "execution_count": 6,
   "id": "32a06cd2",
   "metadata": {},
   "outputs": [],
   "source": [
    "df = pd.DataFrame(json['data']['weather'])"
   ]
  },
  {
   "cell_type": "code",
   "execution_count": 7,
   "id": "1e15f25d",
   "metadata": {},
   "outputs": [
    {
     "data": {
      "text/plain": [
       "list"
      ]
     },
     "execution_count": 7,
     "metadata": {},
     "output_type": "execute_result"
    }
   ],
   "source": [
    "type((json['data']['weather']))"
   ]
  },
  {
   "cell_type": "code",
   "execution_count": 8,
   "id": "dca79432",
   "metadata": {},
   "outputs": [
    {
     "data": {
      "text/plain": [
       "Index(['date', 'astronomy', 'maxtempC', 'maxtempF', 'mintempC', 'mintempF',\n",
       "       'avgtempC', 'avgtempF', 'totalSnow_cm', 'sunHour', 'uvIndex', 'hourly'],\n",
       "      dtype='object')"
      ]
     },
     "execution_count": 8,
     "metadata": {},
     "output_type": "execute_result"
    }
   ],
   "source": [
    "df.columns # This will come in handy in the function below"
   ]
  },
  {
   "cell_type": "markdown",
   "id": "881cad2b",
   "metadata": {},
   "source": [
    "This query only captured the first 35 days of the timeframe, so I will need to make multiple requests to get all of the relevant data:"
   ]
  },
  {
   "cell_type": "code",
   "execution_count": 11,
   "id": "80e4e1fc",
   "metadata": {},
   "outputs": [],
   "source": [
    "def weather_wrangler(sdate, edate, frequency='30D'):\n",
    "    \"\"\"Pulls weather data in monthly chunks and creates a single dataframe\"\"\"\n",
    "    # Create the empty dataframe for all weather data to be appended to\n",
    "    data = pd.DataFrame(columns=df.columns)\n",
    "    \n",
    "    # Create date list\n",
    "    date_list = list(pd.date_range(start=sdate, end=edate, freq=frequency))\n",
    "    for i, date in enumerate(date_list):\n",
    "        \n",
    "        # Trying to prevent the out of index error - and make the final data request\n",
    "        if date_list[i + 1] == date_list[-1]:\n",
    "            res = requests.get(url= base_url, params = {\n",
    "                                'q'        : 'Antwerp,Belgium',\n",
    "                                'date'     : date,\n",
    "                                'enddate'  : edate,\n",
    "                                'key'      : key,\n",
    "                                'tp'       : '12',\n",
    "                                'isDayTime': 'yes',\n",
    "                                'format'   : 'json'\n",
    "                               })\n",
    "            print(res.status_code)\n",
    "            json = res.json()\n",
    "            chunk_df = pd.DataFrame(json['data']['weather'])\n",
    "            data = data.append(json['data']['weather'])\n",
    "            \n",
    "            # Return the data in dataframe format\n",
    "            return data\n",
    "        \n",
    "        # Make the get request and append to data\n",
    "        res = requests.get(url= base_url, params = {\n",
    "                                'q'        : 'Antwerp,Belgium',\n",
    "                                'date'     : date,\n",
    "                                'enddate'  : date_list[i+1],\n",
    "                                'key'      : key,\n",
    "                                'tp'       : '12',\n",
    "                                'isDayTime': 'yes',\n",
    "                                'format'   : 'json'\n",
    "                          })\n",
    "\n",
    "        print(res.status_code)\n",
    "        json = res.json()\n",
    "        chunk_df = pd.DataFrame(json['data']['weather'])\n",
    "        data = data.append(chunk_df)\n",
    "        \n",
    "        # Wait before the next request to not overload the server with requests\n",
    "        time.sleep(5)"
   ]
  },
  {
   "cell_type": "code",
   "execution_count": 12,
   "id": "38421f7e",
   "metadata": {
    "scrolled": true,
    "tags": []
   },
   "outputs": [
    {
     "name": "stdout",
     "output_type": "stream",
     "text": [
      "200\n",
      "200\n",
      "200\n",
      "200\n",
      "200\n",
      "200\n",
      "200\n",
      "200\n",
      "200\n",
      "200\n",
      "200\n",
      "200\n",
      "200\n",
      "200\n",
      "200\n",
      "200\n",
      "200\n",
      "200\n",
      "200\n",
      "200\n",
      "200\n",
      "200\n",
      "200\n",
      "200\n",
      "200\n",
      "200\n",
      "200\n",
      "200\n",
      "200\n",
      "200\n",
      "200\n",
      "200\n",
      "200\n",
      "200\n",
      "200\n",
      "200\n",
      "200\n",
      "200\n",
      "200\n",
      "200\n",
      "200\n",
      "200\n",
      "200\n",
      "200\n",
      "200\n",
      "200\n",
      "200\n",
      "200\n",
      "200\n",
      "200\n",
      "200\n",
      "200\n",
      "200\n",
      "200\n",
      "200\n",
      "200\n",
      "200\n",
      "200\n",
      "200\n",
      "200\n",
      "200\n",
      "200\n",
      "200\n",
      "200\n",
      "200\n",
      "200\n",
      "200\n",
      "200\n",
      "200\n",
      "200\n",
      "200\n",
      "200\n",
      "200\n",
      "200\n",
      "200\n",
      "200\n",
      "200\n",
      "200\n",
      "200\n",
      "200\n",
      "200\n",
      "200\n",
      "200\n",
      "200\n",
      "200\n",
      "200\n",
      "200\n",
      "200\n",
      "200\n",
      "200\n",
      "200\n",
      "200\n",
      "200\n",
      "200\n",
      "200\n",
      "200\n",
      "200\n",
      "200\n",
      "200\n",
      "200\n",
      "200\n",
      "200\n",
      "200\n",
      "200\n",
      "200\n",
      "200\n",
      "200\n",
      "200\n",
      "200\n",
      "200\n"
     ]
    }
   ],
   "source": [
    "df_2 = weather_wrangler(sdate='2011-10-26', edate='2020-11-10')"
   ]
  },
  {
   "cell_type": "code",
   "execution_count": 13,
   "id": "fe8a519f",
   "metadata": {},
   "outputs": [
    {
     "data": {
      "text/html": [
       "<div>\n",
       "<style scoped>\n",
       "    .dataframe tbody tr th:only-of-type {\n",
       "        vertical-align: middle;\n",
       "    }\n",
       "\n",
       "    .dataframe tbody tr th {\n",
       "        vertical-align: top;\n",
       "    }\n",
       "\n",
       "    .dataframe thead th {\n",
       "        text-align: right;\n",
       "    }\n",
       "</style>\n",
       "<table border=\"1\" class=\"dataframe\">\n",
       "  <thead>\n",
       "    <tr style=\"text-align: right;\">\n",
       "      <th></th>\n",
       "      <th>date</th>\n",
       "      <th>astronomy</th>\n",
       "      <th>maxtempC</th>\n",
       "      <th>maxtempF</th>\n",
       "      <th>mintempC</th>\n",
       "      <th>mintempF</th>\n",
       "      <th>avgtempC</th>\n",
       "      <th>avgtempF</th>\n",
       "      <th>totalSnow_cm</th>\n",
       "      <th>sunHour</th>\n",
       "      <th>uvIndex</th>\n",
       "      <th>hourly</th>\n",
       "    </tr>\n",
       "  </thead>\n",
       "  <tbody>\n",
       "    <tr>\n",
       "      <th>0</th>\n",
       "      <td>2011-10-26</td>\n",
       "      <td>[{'sunrise': '08:24 AM', 'sunset': '06:28 PM',...</td>\n",
       "      <td>13</td>\n",
       "      <td>55</td>\n",
       "      <td>7</td>\n",
       "      <td>44</td>\n",
       "      <td>10</td>\n",
       "      <td>50</td>\n",
       "      <td>0.0</td>\n",
       "      <td>10.0</td>\n",
       "      <td>3</td>\n",
       "      <td>[{'time': '0', 'tempC': '9', 'tempF': '48', 'w...</td>\n",
       "    </tr>\n",
       "    <tr>\n",
       "      <th>1</th>\n",
       "      <td>2011-10-27</td>\n",
       "      <td>[{'sunrise': '08:25 AM', 'sunset': '06:26 PM',...</td>\n",
       "      <td>15</td>\n",
       "      <td>59</td>\n",
       "      <td>7</td>\n",
       "      <td>44</td>\n",
       "      <td>11</td>\n",
       "      <td>53</td>\n",
       "      <td>0.0</td>\n",
       "      <td>10.0</td>\n",
       "      <td>4</td>\n",
       "      <td>[{'time': '0', 'tempC': '7', 'tempF': '45', 'w...</td>\n",
       "    </tr>\n",
       "    <tr>\n",
       "      <th>2</th>\n",
       "      <td>2011-10-28</td>\n",
       "      <td>[{'sunrise': '08:27 AM', 'sunset': '06:24 PM',...</td>\n",
       "      <td>17</td>\n",
       "      <td>63</td>\n",
       "      <td>10</td>\n",
       "      <td>50</td>\n",
       "      <td>14</td>\n",
       "      <td>57</td>\n",
       "      <td>0.0</td>\n",
       "      <td>9.9</td>\n",
       "      <td>4</td>\n",
       "      <td>[{'time': '0', 'tempC': '10', 'tempF': '50', '...</td>\n",
       "    </tr>\n",
       "    <tr>\n",
       "      <th>3</th>\n",
       "      <td>2011-10-29</td>\n",
       "      <td>[{'sunrise': '08:29 AM', 'sunset': '06:22 PM',...</td>\n",
       "      <td>17</td>\n",
       "      <td>63</td>\n",
       "      <td>10</td>\n",
       "      <td>50</td>\n",
       "      <td>14</td>\n",
       "      <td>58</td>\n",
       "      <td>0.0</td>\n",
       "      <td>6.6</td>\n",
       "      <td>3</td>\n",
       "      <td>[{'time': '0', 'tempC': '11', 'tempF': '52', '...</td>\n",
       "    </tr>\n",
       "    <tr>\n",
       "      <th>4</th>\n",
       "      <td>2011-10-30</td>\n",
       "      <td>[{'sunrise': '08:31 AM', 'sunset': '06:20 PM',...</td>\n",
       "      <td>15</td>\n",
       "      <td>60</td>\n",
       "      <td>10</td>\n",
       "      <td>51</td>\n",
       "      <td>13</td>\n",
       "      <td>56</td>\n",
       "      <td>0.0</td>\n",
       "      <td>8.3</td>\n",
       "      <td>3</td>\n",
       "      <td>[{'time': '0', 'tempC': '12', 'tempF': '54', '...</td>\n",
       "    </tr>\n",
       "  </tbody>\n",
       "</table>\n",
       "</div>"
      ],
      "text/plain": [
       "         date                                          astronomy maxtempC  \\\n",
       "0  2011-10-26  [{'sunrise': '08:24 AM', 'sunset': '06:28 PM',...       13   \n",
       "1  2011-10-27  [{'sunrise': '08:25 AM', 'sunset': '06:26 PM',...       15   \n",
       "2  2011-10-28  [{'sunrise': '08:27 AM', 'sunset': '06:24 PM',...       17   \n",
       "3  2011-10-29  [{'sunrise': '08:29 AM', 'sunset': '06:22 PM',...       17   \n",
       "4  2011-10-30  [{'sunrise': '08:31 AM', 'sunset': '06:20 PM',...       15   \n",
       "\n",
       "  maxtempF mintempC mintempF avgtempC avgtempF totalSnow_cm sunHour uvIndex  \\\n",
       "0       55        7       44       10       50          0.0    10.0       3   \n",
       "1       59        7       44       11       53          0.0    10.0       4   \n",
       "2       63       10       50       14       57          0.0     9.9       4   \n",
       "3       63       10       50       14       58          0.0     6.6       3   \n",
       "4       60       10       51       13       56          0.0     8.3       3   \n",
       "\n",
       "                                              hourly  \n",
       "0  [{'time': '0', 'tempC': '9', 'tempF': '48', 'w...  \n",
       "1  [{'time': '0', 'tempC': '7', 'tempF': '45', 'w...  \n",
       "2  [{'time': '0', 'tempC': '10', 'tempF': '50', '...  \n",
       "3  [{'time': '0', 'tempC': '11', 'tempF': '52', '...  \n",
       "4  [{'time': '0', 'tempC': '12', 'tempF': '54', '...  "
      ]
     },
     "execution_count": 13,
     "metadata": {},
     "output_type": "execute_result"
    }
   ],
   "source": [
    "df_2.head()"
   ]
  },
  {
   "cell_type": "markdown",
   "id": "c3076e5d",
   "metadata": {},
   "source": [
    "There appears to be a lot more information on hourly weather in the `hourly` column, but the data here is formatted as a list of dictionaries. To get a better look at the data in this column:"
   ]
  },
  {
   "cell_type": "code",
   "execution_count": 14,
   "id": "c2fdecbf",
   "metadata": {},
   "outputs": [],
   "source": [
    "hourly_series = df_2['hourly']"
   ]
  },
  {
   "cell_type": "code",
   "execution_count": 15,
   "id": "86a2e258",
   "metadata": {
    "scrolled": true,
    "tags": []
   },
   "outputs": [],
   "source": [
    "hourly_series = hourly_series.to_list()"
   ]
  },
  {
   "cell_type": "code",
   "execution_count": 16,
   "id": "7e8a361f",
   "metadata": {},
   "outputs": [
    {
     "data": {
      "text/plain": [
       "{'time': '1200',\n",
       " 'tempC': '17',\n",
       " 'tempF': '62',\n",
       " 'windspeedMiles': '1',\n",
       " 'windspeedKmph': '1',\n",
       " 'winddirDegree': '185',\n",
       " 'winddir16Point': 'S',\n",
       " 'weatherCode': '116',\n",
       " 'weatherIconUrl': [{'value': 'http://cdn.worldweatheronline.com/images/wsymbols01_png_64/wsymbol_0002_sunny_intervals.png'}],\n",
       " 'weatherDesc': [{'value': 'Partly cloudy'}],\n",
       " 'precipMM': '0.1',\n",
       " 'precipInches': '0.0',\n",
       " 'humidity': '76',\n",
       " 'visibility': '10',\n",
       " 'visibilityMiles': '6',\n",
       " 'pressure': '1023',\n",
       " 'pressureInches': '31',\n",
       " 'cloudcover': '45',\n",
       " 'HeatIndexC': '17',\n",
       " 'HeatIndexF': '62',\n",
       " 'DewPointC': '12',\n",
       " 'DewPointF': '54',\n",
       " 'WindChillC': '17',\n",
       " 'WindChillF': '62',\n",
       " 'WindGustMiles': '1',\n",
       " 'WindGustKmph': '2',\n",
       " 'FeelsLikeC': '17',\n",
       " 'FeelsLikeF': '62',\n",
       " 'uvIndex': '5'}"
      ]
     },
     "execution_count": 16,
     "metadata": {},
     "output_type": "execute_result"
    }
   ],
   "source": [
    "hourly_series[2][1]"
   ]
  },
  {
   "cell_type": "code",
   "execution_count": 17,
   "id": "64cec02d",
   "metadata": {},
   "outputs": [
    {
     "data": {
      "text/plain": [
       "date            0\n",
       "astronomy       0\n",
       "maxtempC        0\n",
       "maxtempF        0\n",
       "mintempC        0\n",
       "mintempF        0\n",
       "avgtempC        0\n",
       "avgtempF        0\n",
       "totalSnow_cm    0\n",
       "sunHour         0\n",
       "uvIndex         0\n",
       "hourly          0\n",
       "dtype: int64"
      ]
     },
     "execution_count": 17,
     "metadata": {},
     "output_type": "execute_result"
    }
   ],
   "source": [
    "df_2.isnull().sum()"
   ]
  },
  {
   "cell_type": "code",
   "execution_count": 18,
   "id": "44afa541",
   "metadata": {},
   "outputs": [
    {
     "data": {
      "text/plain": [
       "(3413, 12)"
      ]
     },
     "execution_count": 18,
     "metadata": {},
     "output_type": "execute_result"
    }
   ],
   "source": [
    "df_2.shape"
   ]
  },
  {
   "cell_type": "code",
   "execution_count": 19,
   "id": "7bf8035d",
   "metadata": {},
   "outputs": [
    {
     "data": {
      "text/plain": [
       "3413"
      ]
     },
     "execution_count": 19,
     "metadata": {},
     "output_type": "execute_result"
    }
   ],
   "source": [
    "len(hourly_series)"
   ]
  },
  {
   "cell_type": "markdown",
   "id": "35325696",
   "metadata": {},
   "source": [
    "The second dictionary in the hourly column has the weather information for noon each day. This will be the source of the data we extract using the function below:"
   ]
  },
  {
   "cell_type": "code",
   "execution_count": 20,
   "id": "0c585e45",
   "metadata": {},
   "outputs": [],
   "source": [
    "# Extract information from the hourly column that isn't represented already\n",
    "def hourly_extractor(features, dataframe, hourly_series):\n",
    "    \"\"\"Extract needed information from the hourly column in the weather data, and add this data\n",
    "    back to the overall dataset for later use.\n",
    "    features - list of features to be extracted\n",
    "    \"\"\"\n",
    "    # The 1 here extracts from the second dictionary\n",
    "    for feature in features:\n",
    "        dataframe[feature] = [hourly_series[num][1][feature] for num in range(len(hourly_series))]"
   ]
  },
  {
   "cell_type": "code",
   "execution_count": 21,
   "id": "65bc4f51",
   "metadata": {},
   "outputs": [],
   "source": [
    "# To make sure the original df isn't ruined \n",
    "df_3 = df_2.copy()"
   ]
  },
  {
   "cell_type": "code",
   "execution_count": 22,
   "id": "4619b4fd",
   "metadata": {},
   "outputs": [],
   "source": [
    "hourly_extractor(features=['humidity', 'precipInches', 'pressureInches', 'cloudcover', 'windspeedMiles',\n",
    "                          'visibilityMiles'], dataframe=df_3, hourly_series=hourly_series)"
   ]
  },
  {
   "cell_type": "code",
   "execution_count": 23,
   "id": "fe9203e9",
   "metadata": {},
   "outputs": [
    {
     "data": {
      "text/html": [
       "<div>\n",
       "<style scoped>\n",
       "    .dataframe tbody tr th:only-of-type {\n",
       "        vertical-align: middle;\n",
       "    }\n",
       "\n",
       "    .dataframe tbody tr th {\n",
       "        vertical-align: top;\n",
       "    }\n",
       "\n",
       "    .dataframe thead th {\n",
       "        text-align: right;\n",
       "    }\n",
       "</style>\n",
       "<table border=\"1\" class=\"dataframe\">\n",
       "  <thead>\n",
       "    <tr style=\"text-align: right;\">\n",
       "      <th></th>\n",
       "      <th>date</th>\n",
       "      <th>astronomy</th>\n",
       "      <th>maxtempC</th>\n",
       "      <th>maxtempF</th>\n",
       "      <th>mintempC</th>\n",
       "      <th>mintempF</th>\n",
       "      <th>avgtempC</th>\n",
       "      <th>avgtempF</th>\n",
       "      <th>totalSnow_cm</th>\n",
       "      <th>sunHour</th>\n",
       "      <th>uvIndex</th>\n",
       "      <th>hourly</th>\n",
       "      <th>humidity</th>\n",
       "      <th>precipInches</th>\n",
       "      <th>pressureInches</th>\n",
       "      <th>cloudcover</th>\n",
       "      <th>windspeedMiles</th>\n",
       "      <th>visibilityMiles</th>\n",
       "    </tr>\n",
       "  </thead>\n",
       "  <tbody>\n",
       "    <tr>\n",
       "      <th>29</th>\n",
       "      <td>2020-11-06</td>\n",
       "      <td>[{'sunrise': '08:44 AM', 'sunset': '06:07 PM',...</td>\n",
       "      <td>11</td>\n",
       "      <td>52</td>\n",
       "      <td>6</td>\n",
       "      <td>42</td>\n",
       "      <td>8</td>\n",
       "      <td>47</td>\n",
       "      <td>0.0</td>\n",
       "      <td>9.6</td>\n",
       "      <td>3</td>\n",
       "      <td>[{'time': '0', 'tempC': '7', 'tempF': '44', 'w...</td>\n",
       "      <td>52</td>\n",
       "      <td>0.0</td>\n",
       "      <td>31</td>\n",
       "      <td>1</td>\n",
       "      <td>9</td>\n",
       "      <td>6</td>\n",
       "    </tr>\n",
       "    <tr>\n",
       "      <th>30</th>\n",
       "      <td>2020-11-07</td>\n",
       "      <td>[{'sunrise': '08:46 AM', 'sunset': '06:05 PM',...</td>\n",
       "      <td>15</td>\n",
       "      <td>59</td>\n",
       "      <td>7</td>\n",
       "      <td>44</td>\n",
       "      <td>12</td>\n",
       "      <td>53</td>\n",
       "      <td>0.0</td>\n",
       "      <td>9.6</td>\n",
       "      <td>4</td>\n",
       "      <td>[{'time': '0', 'tempC': '7', 'tempF': '44', 'w...</td>\n",
       "      <td>71</td>\n",
       "      <td>0.0</td>\n",
       "      <td>31</td>\n",
       "      <td>5</td>\n",
       "      <td>5</td>\n",
       "      <td>6</td>\n",
       "    </tr>\n",
       "    <tr>\n",
       "      <th>31</th>\n",
       "      <td>2020-11-08</td>\n",
       "      <td>[{'sunrise': '08:48 AM', 'sunset': '06:04 PM',...</td>\n",
       "      <td>16</td>\n",
       "      <td>61</td>\n",
       "      <td>9</td>\n",
       "      <td>49</td>\n",
       "      <td>13</td>\n",
       "      <td>56</td>\n",
       "      <td>0.0</td>\n",
       "      <td>6.5</td>\n",
       "      <td>4</td>\n",
       "      <td>[{'time': '0', 'tempC': '10', 'tempF': '50', '...</td>\n",
       "      <td>72</td>\n",
       "      <td>0.0</td>\n",
       "      <td>31</td>\n",
       "      <td>81</td>\n",
       "      <td>7</td>\n",
       "      <td>6</td>\n",
       "    </tr>\n",
       "    <tr>\n",
       "      <th>32</th>\n",
       "      <td>2020-11-09</td>\n",
       "      <td>[{'sunrise': '08:50 AM', 'sunset': '06:02 PM',...</td>\n",
       "      <td>16</td>\n",
       "      <td>61</td>\n",
       "      <td>11</td>\n",
       "      <td>52</td>\n",
       "      <td>14</td>\n",
       "      <td>57</td>\n",
       "      <td>0.0</td>\n",
       "      <td>9.5</td>\n",
       "      <td>4</td>\n",
       "      <td>[{'time': '0', 'tempC': '12', 'tempF': '54', '...</td>\n",
       "      <td>70</td>\n",
       "      <td>0.0</td>\n",
       "      <td>31</td>\n",
       "      <td>40</td>\n",
       "      <td>6</td>\n",
       "      <td>6</td>\n",
       "    </tr>\n",
       "    <tr>\n",
       "      <th>33</th>\n",
       "      <td>2020-11-10</td>\n",
       "      <td>[{'sunrise': '08:51 AM', 'sunset': '06:01 PM',...</td>\n",
       "      <td>15</td>\n",
       "      <td>58</td>\n",
       "      <td>12</td>\n",
       "      <td>53</td>\n",
       "      <td>13</td>\n",
       "      <td>56</td>\n",
       "      <td>0.0</td>\n",
       "      <td>4.8</td>\n",
       "      <td>3</td>\n",
       "      <td>[{'time': '0', 'tempC': '12', 'tempF': '54', '...</td>\n",
       "      <td>79</td>\n",
       "      <td>0.0</td>\n",
       "      <td>31</td>\n",
       "      <td>83</td>\n",
       "      <td>4</td>\n",
       "      <td>6</td>\n",
       "    </tr>\n",
       "  </tbody>\n",
       "</table>\n",
       "</div>"
      ],
      "text/plain": [
       "          date                                          astronomy maxtempC  \\\n",
       "29  2020-11-06  [{'sunrise': '08:44 AM', 'sunset': '06:07 PM',...       11   \n",
       "30  2020-11-07  [{'sunrise': '08:46 AM', 'sunset': '06:05 PM',...       15   \n",
       "31  2020-11-08  [{'sunrise': '08:48 AM', 'sunset': '06:04 PM',...       16   \n",
       "32  2020-11-09  [{'sunrise': '08:50 AM', 'sunset': '06:02 PM',...       16   \n",
       "33  2020-11-10  [{'sunrise': '08:51 AM', 'sunset': '06:01 PM',...       15   \n",
       "\n",
       "   maxtempF mintempC mintempF avgtempC avgtempF totalSnow_cm sunHour uvIndex  \\\n",
       "29       52        6       42        8       47          0.0     9.6       3   \n",
       "30       59        7       44       12       53          0.0     9.6       4   \n",
       "31       61        9       49       13       56          0.0     6.5       4   \n",
       "32       61       11       52       14       57          0.0     9.5       4   \n",
       "33       58       12       53       13       56          0.0     4.8       3   \n",
       "\n",
       "                                               hourly humidity precipInches  \\\n",
       "29  [{'time': '0', 'tempC': '7', 'tempF': '44', 'w...       52          0.0   \n",
       "30  [{'time': '0', 'tempC': '7', 'tempF': '44', 'w...       71          0.0   \n",
       "31  [{'time': '0', 'tempC': '10', 'tempF': '50', '...       72          0.0   \n",
       "32  [{'time': '0', 'tempC': '12', 'tempF': '54', '...       70          0.0   \n",
       "33  [{'time': '0', 'tempC': '12', 'tempF': '54', '...       79          0.0   \n",
       "\n",
       "   pressureInches cloudcover windspeedMiles visibilityMiles  \n",
       "29             31          1              9               6  \n",
       "30             31          5              5               6  \n",
       "31             31         81              7               6  \n",
       "32             31         40              6               6  \n",
       "33             31         83              4               6  "
      ]
     },
     "execution_count": 23,
     "metadata": {},
     "output_type": "execute_result"
    }
   ],
   "source": [
    "df_3.tail()"
   ]
  },
  {
   "cell_type": "code",
   "execution_count": 24,
   "id": "6f676855",
   "metadata": {},
   "outputs": [],
   "source": [
    "# Drop the redundant and unnecesary columns - leave `hourly` just in case we want to extract more from it\n",
    "df_3.drop(columns=['astronomy', 'maxtempC', 'mintempC', 'avgtempC'], inplace=True)\n",
    "\n",
    "# # Save this version of the data\n",
    "# df_3.to_csv('../data/weather_plus_hourly.csv', index=False)"
   ]
  },
  {
   "cell_type": "code",
   "execution_count": 25,
   "id": "fa52dcbe",
   "metadata": {},
   "outputs": [],
   "source": [
    "# Now save a cleaner version to merge with the PV data\n",
    "df_3.drop(columns='hourly', inplace=True)\n",
    "\n",
    "df_3.to_csv('../data/weather_antwerp.csv', index=False)"
   ]
  },
  {
   "cell_type": "markdown",
   "id": "b34a6e76",
   "metadata": {},
   "source": [
    "Now that the weather data has been pulled in, it can be merged with the PV data based on the date column and then used to create a regression model. The merging of the datasets will be done in the [next notebook.\n",
    "](./code2-data-wrangling-eda.ipynb)"
   ]
  },
  {
   "cell_type": "code",
   "execution_count": null,
   "id": "60714bb5-8f9e-433c-bf23-12059286c88a",
   "metadata": {},
   "outputs": [],
   "source": []
  }
 ],
 "metadata": {
  "kernelspec": {
   "display_name": "Python 3",
   "language": "python",
   "name": "python3"
  },
  "language_info": {
   "codemirror_mode": {
    "name": "ipython",
    "version": 3
   },
   "file_extension": ".py",
   "mimetype": "text/x-python",
   "name": "python",
   "nbconvert_exporter": "python",
   "pygments_lexer": "ipython3",
   "version": "3.8.8"
  }
 },
 "nbformat": 4,
 "nbformat_minor": 5
}
