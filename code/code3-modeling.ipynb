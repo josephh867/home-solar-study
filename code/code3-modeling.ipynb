{
 "cells": [
  {
   "cell_type": "markdown",

   "id": "fb0459d2",
 
   "id": "e3c75441",

   "metadata": {
    "id": "407034db-2ac8-4d3d-8a2c-e2799383ee15"
   },
   "source": [
    "# ![](https://ga-dash.s3.amazonaws.com/production/assets/logo-9f88ae6c9c3871690e33280fcf557f33.png) Group Project: Predicting Solar Power Generation with Weather Forecasting"
   ]
  },
  {
   "cell_type": "markdown",

   "id": "228fd603",

   "id": "c5e43cc4",

   "metadata": {
    "id": "1608ab49-0e17-4f6f-9f7b-f6e181e906d3"
   },
   "source": [
    "### Corina Lentz, Joseph Hicks, and Garrett Hart"
   ]
  },
  {

   "cell_type": "code",
   "execution_count": 1,
   "id": "b9c6e68d",
   "metadata": {
    "colab": {
     "base_uri": "https://localhost:8080/"
    },
    "id": "gdI52Dvq9_PC",
    "outputId": "4cbf3ba0-02a4-440a-8b1c-ef16b2d233be"
   },
   "outputs": [],
   "source": [
    "# This was for running the notebook in Colab\n",
    "# from google.colab import drive\n",
    "# drive.mount('/content/drive')"
   ]
  },
  {
   "cell_type": "markdown",
   "id": "814b2b1a",

   "cell_type": "markdown",
   "id": "dd657944",

   "metadata": {
    "id": "4fc83161-5668-4840-81f5-de205c135ca3"
   },
   "source": [
    "## Notebook 3: Modeling and Conclusions\n",
    "---"
   ]
  },
  {
   "cell_type": "markdown",

   "id": "98243e97",

   "id": "7a2a1918",

   "metadata": {
    "id": "eeb55ac1-7a8b-4e81-a3d2-ec83128c5a6a"
   },
   "source": [
    "For the modeling portion of this project, we will be trying out a variety of different regression models, inlcuding a **Random Forest Regressor**, a **Linear Regression model**, **SVM regression model**, and a **Bagging Regressor model**."
   ]
  },
  {
   "cell_type": "markdown",

   "id": "b7a67bf4",

   "id": "884d22a9",

   "metadata": {
    "id": "75601f46-22aa-46d9-b287-fab99362a0a9"
   },
   "source": [
    "### Modeling Setup"
   ]
  },
  {
   "cell_type": "code",

   "execution_count": 2,
   "id": "24d9213d",

   "execution_count": 1,
   "id": "13e76cb8",

   "metadata": {
    "id": "a0563350-6336-4a26-bd22-aa95c16a0d7a"
   },
   "outputs": [],
   "source": [
    "# Imports \n",
    "import numpy as np\n",
    "import pandas as pd\n",
    "import matplotlib.pyplot as plt\n",
    "from sklearn.preprocessing import StandardScaler\n",
    "from sklearn.model_selection import train_test_split, GridSearchCV\n",
    "from sklearn.pipeline import Pipeline\n",
    "from sklearn.metrics import mean_squared_error, r2_score"
   ]
  },
  {
   "cell_type": "code",

   "execution_count": 3,
   "id": "115b316e",

   "execution_count": 2,
   "id": "819a2947",

   "metadata": {
    "colab": {
     "base_uri": "https://localhost:8080/",
     "height": 360
    },
    "id": "421e1790-98a4-47eb-9395-24f1a46331bc",
    "outputId": "29a49b69-4bd8-430e-c99e-d8a41582e42c"
   },
   "outputs": [
    {
     "data": {
      "text/html": [
       "<div>\n",
       "<style scoped>\n",
       "    .dataframe tbody tr th:only-of-type {\n",
       "        vertical-align: middle;\n",
       "    }\n",
       "\n",
       "    .dataframe tbody tr th {\n",
       "        vertical-align: top;\n",
       "    }\n",
       "\n",
       "    .dataframe thead th {\n",
       "        text-align: right;\n",
       "    }\n",
       "</style>\n",
       "<table border=\"1\" class=\"dataframe\">\n",
       "  <thead>\n",
       "    <tr style=\"text-align: right;\">\n",
       "      <th></th>\n",
       "      <th>date</th>\n",
       "      <th>generated_kWh</th>\n",
       "      <th>maxtempF</th>\n",
       "      <th>mintempF</th>\n",
       "      <th>avgtempF</th>\n",
       "      <th>totalSnow_cm</th>\n",
       "      <th>sunHour</th>\n",
       "      <th>uvIndex</th>\n",
       "      <th>humidity</th>\n",
       "      <th>precipInches</th>\n",
       "      <th>pressureInches</th>\n",
       "      <th>cloudcover</th>\n",
       "      <th>windspeedMiles</th>\n",
       "      <th>visibilityMiles</th>\n",
       "      <th>lag_1</th>\n",
       "      <th>lag_2</th>\n",
       "    </tr>\n",
       "  </thead>\n",
       "  <tbody>\n",
       "    <tr>\n",
       "      <th>0</th>\n",
       "      <td>2011-10-29</td>\n",
       "      <td>9.4</td>\n",
       "      <td>63</td>\n",
       "      <td>50</td>\n",
       "      <td>58</td>\n",
       "      <td>0.0</td>\n",
       "      <td>6.6</td>\n",
       "      <td>3</td>\n",
       "      <td>79</td>\n",
       "      <td>0.0</td>\n",
       "      <td>31</td>\n",
       "      <td>72</td>\n",
       "      <td>9</td>\n",
       "      <td>6</td>\n",
       "      <td>10.0</td>\n",
       "      <td>10.1</td>\n",
       "    </tr>\n",
       "    <tr>\n",
       "      <th>1</th>\n",
       "      <td>2011-10-30</td>\n",
       "      <td>4.6</td>\n",
       "      <td>60</td>\n",
       "      <td>51</td>\n",
       "      <td>56</td>\n",
       "      <td>0.0</td>\n",
       "      <td>8.3</td>\n",
       "      <td>3</td>\n",
       "      <td>76</td>\n",
       "      <td>0.0</td>\n",
       "      <td>31</td>\n",
       "      <td>36</td>\n",
       "      <td>5</td>\n",
       "      <td>6</td>\n",
       "      <td>9.4</td>\n",
       "      <td>10.0</td>\n",
       "    </tr>\n",
       "    <tr>\n",
       "      <th>2</th>\n",
       "      <td>2011-10-31</td>\n",
       "      <td>3.8</td>\n",
       "      <td>60</td>\n",
       "      <td>49</td>\n",
       "      <td>55</td>\n",
       "      <td>0.0</td>\n",
       "      <td>9.9</td>\n",
       "      <td>3</td>\n",
       "      <td>69</td>\n",
       "      <td>0.0</td>\n",
       "      <td>31</td>\n",
       "      <td>6</td>\n",
       "      <td>6</td>\n",
       "      <td>6</td>\n",
       "      <td>4.6</td>\n",
       "      <td>9.4</td>\n",
       "    </tr>\n",
       "    <tr>\n",
       "      <th>3</th>\n",
       "      <td>2011-11-01</td>\n",
       "      <td>8.6</td>\n",
       "      <td>60</td>\n",
       "      <td>49</td>\n",
       "      <td>56</td>\n",
       "      <td>0.0</td>\n",
       "      <td>9.8</td>\n",
       "      <td>4</td>\n",
       "      <td>76</td>\n",
       "      <td>0.0</td>\n",
       "      <td>30</td>\n",
       "      <td>44</td>\n",
       "      <td>7</td>\n",
       "      <td>6</td>\n",
       "      <td>3.8</td>\n",
       "      <td>4.6</td>\n",
       "    </tr>\n",
       "    <tr>\n",
       "      <th>4</th>\n",
       "      <td>2011-11-02</td>\n",
       "      <td>5.0</td>\n",
       "      <td>58</td>\n",
       "      <td>47</td>\n",
       "      <td>53</td>\n",
       "      <td>0.0</td>\n",
       "      <td>9.8</td>\n",
       "      <td>3</td>\n",
       "      <td>77</td>\n",
       "      <td>0.0</td>\n",
       "      <td>30</td>\n",
       "      <td>30</td>\n",
       "      <td>7</td>\n",
       "      <td>6</td>\n",
       "      <td>8.6</td>\n",
       "      <td>3.8</td>\n",
       "    </tr>\n",
       "  </tbody>\n",
       "</table>\n",
       "</div>"
      ],
      "text/plain": [
       "         date  generated_kWh  maxtempF  mintempF  avgtempF  totalSnow_cm  \\\n",
       "0  2011-10-29            9.4        63        50        58           0.0   \n",
       "1  2011-10-30            4.6        60        51        56           0.0   \n",
       "2  2011-10-31            3.8        60        49        55           0.0   \n",
       "3  2011-11-01            8.6        60        49        56           0.0   \n",
       "4  2011-11-02            5.0        58        47        53           0.0   \n",
       "\n",
       "   sunHour  uvIndex  humidity  precipInches  pressureInches  cloudcover  \\\n",
       "0      6.6        3        79           0.0              31          72   \n",
       "1      8.3        3        76           0.0              31          36   \n",
       "2      9.9        3        69           0.0              31           6   \n",
       "3      9.8        4        76           0.0              30          44   \n",
       "4      9.8        3        77           0.0              30          30   \n",
       "\n",
       "   windspeedMiles  visibilityMiles  lag_1  lag_2  \n",
       "0               9                6   10.0   10.1  \n",
       "1               5                6    9.4   10.0  \n",
       "2               6                6    4.6    9.4  \n",
       "3               7                6    3.8    4.6  \n",
       "4               7                6    8.6    3.8  "
      ]
     },
     "execution_count": 2,
     "metadata": {},
     "output_type": "execute_result"
    }
   ],
   "source": [
    "# Read in the data\n",
    "df = pd.read_csv('../data/cleaned_data.csv')\n",
    "df.head()"
   ]
  },
  {
   "cell_type": "code",

   "execution_count": 4,
   "id": "6ee41d85",

   "execution_count": 3,
   "id": "666d8685",

   "metadata": {
    "id": "126a4c58-c4ba-4f13-b9cc-251f07ad6fbd"
   },
   "outputs": [],
   "source": [
    "# Create a random seed for reproducibility\n",
    "np.random.seed(123)\n",
    "\n",
    "# Reset index to date\n",
    "df.set_index('date', inplace=True)\n",
    "\n",
    "# Create X and y\n",
    "X = df.drop(columns='generated_kWh') # Drop cumulative power too - it is redundant\n",
    "y = df['generated_kWh']\n",
    "\n",
    "# Train test split\n",
    "X_train, X_test, y_train, y_test = train_test_split(X, y, test_size=0.2, shuffle=False, random_state=123)"
   ]
  },
  {
   "cell_type": "code",

   "execution_count": 5,
   "id": "ee1df8c4",

   "execution_count": 4,
   "id": "17b259a8",

   "metadata": {
    "colab": {
     "base_uri": "https://localhost:8080/"
    },
    "id": "77420c73-84bd-44fa-a836-5e96a273cbb9",
    "outputId": "ad4814ea-7656-49cd-ac5e-4828ba60aa87"
   },
   "outputs": [
    {
     "name": "stdout",
     "output_type": "stream",
     "text": [
      "Baseline RMSE: 8.43949854332282\n",
      "Baseline R Squared: 0.0\n"
     ]
    }
   ],
   "source": [
    "# Create baseline metrics to compare all future models to\n",
    "baseline_train_preds = [y_train.mean()]*len(y_train)\n",
    "baseline_test_preds = [y_test.mean()]*len(y_test)\n",
    "\n",
    "print(f'Baseline RMSE: {mean_squared_error(y_test, baseline_test_preds, squared=False)}')\n",
    "print(f'Baseline R Squared: {r2_score(y_test, baseline_test_preds)}')"
   ]
  },
  {
   "cell_type": "markdown",

   "id": "26758ecd",

   "id": "066ee217",

   "metadata": {},
   "source": [
    "### Random Forest Regression"
   ]
  },
  {
   "cell_type": "markdown",

   "id": "c14d9350",

   "id": "e077ff99",

   "metadata": {},
   "source": [
    "We started out by building a Random Forest model since they are typically strong predictive models that don’t require much data pre-processing like scaling or normalization."
   ]
  },
  {
   "cell_type": "code",
   "execution_count": 2,

   "id": "9cfd80a5",

   "id": "c4c3b198",

   "metadata": {},
   "outputs": [],
   "source": [
    "# Imports\n",
    "from sklearn.ensemble import RandomForestRegressor"
   ]
  },
  {
   "cell_type": "code",
   "execution_count": 7,

   "id": "a6441cee",

   "id": "d3bdd21e",

   "metadata": {},
   "outputs": [],
   "source": [
    "count = 0\n",
    "model_params = {}"
   ]
  },
  {
   "cell_type": "code",
   "execution_count": 33,

   "id": "11daaeb7",

   "id": "5c47629e",

   "metadata": {},
   "outputs": [
    {
     "name": "stdout",
     "output_type": "stream",
     "text": [
      "0.6876875901609952\n"
     ]
    },
    {
     "data": {
      "text/plain": [
       "{'model_1': {'ccp_alpha': 0.001,\n",
       "  'max_depth': 5,\n",
       "  'max_features': None,\n",
       "  'min_samples_split': 6,\n",
       "  'n_estimators': 100,\n",
       "  'score': 0.6346781180457373},\n",
       " 'model_2': {'ccp_alpha': 0.0012,\n",
       "  'max_depth': 6,\n",
       "  'max_features': None,\n",
       "  'min_samples_split': 7,\n",
       "  'n_estimators': 110,\n",
       "  'score': 0.6413412073922313},\n",
       " 'model_3': {'ccp_alpha': 0.0012,\n",
       "  'max_depth': 6,\n",
       "  'max_features': None,\n",
       "  'min_samples_split': 7,\n",
       "  'n_estimators': 90,\n",
       "  'score': 0.6854458031537242},\n",
       " 'model_4': {'ccp_alpha': 0.0015,\n",
       "  'max_depth': 7,\n",
       "  'max_features': 'sqrt',\n",
       "  'min_samples_split': 6,\n",
       "  'n_estimators': 95,\n",
       "  'score': 0.6876875901609952}}"
      ]
     },
     "execution_count": 33,
     "metadata": {},
     "output_type": "execute_result"
    }
   ],
   "source": [
    "# Set up some modeling scaffolding\n",
    "\n",
    "model_params = model_params\n",
    "count = count\n",
    "\n",
    "rf = RandomForestRegressor(random_state=33, n_jobs=6)\n",
    "\n",
    "# Parameters to feed the grid search\n",
    "\n",
    "params = {'n_estimators':      [85, 90, 95],\n",
    "          'max_features':      [None, 'sqrt', 'log2'],\n",
    "          'max_depth':         [5, 6, 7],\n",
    "          'min_samples_split': [6, 7, 8],\n",
    "          'ccp_alpha':         [0.001, 0.0012, 0.0015]\n",
    "}\n",
    "\n",
    "gs = GridSearchCV(rf, param_grid=params, cv=5, n_jobs=6)\n",
    "\n",
    "gs.fit(X_train, y_train)\n",
    "\n",
    "count += 1\n",
    "\n",
    "gs.best_params_['score'] = gs.best_score_\n",
    "print(gs.best_score_)\n",
    "model_params[f'model_{count}'] = gs.best_params_\n",
    "model_params"
   ]
  },
  {
   "cell_type": "markdown",

   "id": "82287a5a",

   "id": "22dba69c",

   "metadata": {},
   "source": [
    "The first two models were trained without the lag_1 and lag_2 features."
   ]
  },
  {
   "cell_type": "code",
   "execution_count": 36,

   "id": "4d3a7a76",

   "id": "4f807cc6",

   "metadata": {},
   "outputs": [
    {
     "data": {
      "image/png": "[encoded data removed]",
      "text/plain": [
       "<Figure size 1080x576 with 1 Axes>"
      ]
     },
     "metadata": {
      "needs_background": "light"
     },
     "output_type": "display_data"
    }
   ],
   "source": [
    "# Create a feature importance plot with the best estimator (idea from https://machinelearningmastery.com/calculate-feature-importance-with-python/)\n",
    "importance = gs.best_estimator_.feature_importances_\n",
    "\n",
    "plt.figure(figsize=(15,8))\n",
    "plt.bar([x for x in range(len(importance))], importance)\n",
    "plt.xticks(ticks=range(14), labels=list(X.columns), rotation=30)\n",
    "plt.title('Random Forest Feature Importance', {'fontsize':16})\n",
    "plt.show()"
   ]
  },
  {
   "cell_type": "code",
   "execution_count": 40,

   "id": "400b4b73",

   "id": "5bda6382",

   "metadata": {},
   "outputs": [],
   "source": [
    "gs.best_params_['training_score'] = gs.score(X_train, y_train)\n",
    "gs.best_params_['test_score'] = gs.score(X_test, y_test)"
   ]
  },
  {
   "cell_type": "code",
   "execution_count": 41,

   "id": "402a0234",

   "id": "bd816fe2",

   "metadata": {},
   "outputs": [
    {
     "data": {
      "text/plain": [
       "{'ccp_alpha': 0.0015,\n",
       " 'max_depth': 7,\n",
       " 'max_features': 'sqrt',\n",
       " 'min_samples_split': 6,\n",
       " 'n_estimators': 95,\n",
       " 'score': 0.6876875901609952,\n",
       " 'training_score': 0.7828791451902017,\n",
       " 'test_score': 0.7085388789309537}"
      ]
     },
     "execution_count": 41,
     "metadata": {},
     "output_type": "execute_result"
    }
   ],
   "source": [
    "gs.best_params_"
   ]
  },
  {
   "cell_type": "code",
   "execution_count": 37,

   "id": "81a4b9c6",

   "id": "089bd3f1",

   "metadata": {},
   "outputs": [
    {
     "name": "stdout",
     "output_type": "stream",
     "text": [
      "RMSE was 3.8306119218704304\n",
      "RMSE was 4.5562438355030395\n"
     ]
    }
   ],
   "source": [
    "train_preds = gs.best_estimator_.predict(X_train)\n",
    "print(f'Training RMSE was {mean_squared_error(y_train, train_preds, squared=False)}')\n",
    "test_preds = gs.best_estimator_.predict(X_test)\n",
    "print(f'Testing RMSE was {mean_squared_error(y_test, test_preds, squared=False)}')"
   ]
  },
  {
   "cell_type": "markdown",

   "id": "aa39c2c0",

   "id": "7dfd6c83",

   "metadata": {
    "id": "ed53d219-8f9e-4297-9538-ce3e6eec73ac"
   },
   "source": [
    "### Linear Regression"
   ]
  },
  {
   "cell_type": "markdown",

   "id": "2ef839ab",

   "id": "31232255",

   "metadata": {
    "id": "0fb39c5a-e068-4329-bfc8-f8b2ea67e4de"
   },
   "source": [
    "This model will mostly be used as an inferential model, and as a starting place for more complex models:"
   ]
  },
  {
   "cell_type": "code",
   "execution_count": 6,

   "id": "e5ad3c55",

   "id": "37a1350b",

   "metadata": {
    "id": "6693ff6b-60dd-4d4b-a122-91102e63d624"
   },
   "outputs": [],
   "source": [
    "# Imports\n",
    "from sklearn.linear_model import LinearRegression"
   ]
  },
  {
   "cell_type": "code",
   "execution_count": 7,

   "id": "7ed7ad3c",

   "id": "dd292c82",

   "metadata": {
    "colab": {
     "base_uri": "https://localhost:8080/"
    },
    "id": "4f5cde40-6f3a-4c8f-8b76-9555fbc44c2d",
    "outputId": "dccc6af3-cb99-4f5c-bc43-661436697d11"
   },
   "outputs": [
    {
     "data": {
      "text/plain": [
       "LinearRegression()"
      ]
     },
     "execution_count": 7,
     "metadata": {},
     "output_type": "execute_result"
    }
   ],
   "source": [
    "# Fit the model\n",
    "lr = LinearRegression()\n",
    "\n",
    "lr.fit(X_train, y_train)"
   ]
  },
  {
   "cell_type": "code",
   "execution_count": 8,

   "id": "e790de1d",

   "id": "c1529675",

   "metadata": {
    "colab": {
     "base_uri": "https://localhost:8080/"
    },
    "id": "7bbc4245-588f-4677-ae94-061a65aebede",
    "outputId": "7d05381c-bbfb-4f91-b711-258b78543114"
   },
   "outputs": [
    {
     "name": "stdout",
     "output_type": "stream",
     "text": [
      "Training Score: 0.7192593383418606\n",
      "Testing Score: 0.7044047276597041\n",
      "RMSE was 4.588443458701929\n"
     ]
    }
   ],
   "source": [
    "# Generate scores and metrics\n",
    "print(f'Training Score: {lr.score(X_train, y_train)}')\n",
    "print(f'Testing Score: {lr.score(X_test, y_test)}')\n",
    "\n",
    "lr_preds = lr.predict(X_test)\n",
    "print(f'RMSE was {mean_squared_error(y_test, lr_preds, squared=False)}')"
   ]
  },
  {
   "cell_type": "markdown",

   "id": "64d1bfdb",

   "id": "6548b1ce",

   "metadata": {
    "id": "08469903-1dc1-4dc2-b91b-b53efc673be1"
   },
   "source": [
    "This represents a nice improvement over the baseline model, but can probably be improved upon.\n",
    "\n",
    "To get the coefficients from the model in a nice format:"
   ]
  },
  {
   "cell_type": "code",
   "execution_count": 9,

   "id": "9c9cfa13",

   "id": "5ddb6f48",

   "metadata": {
    "colab": {
     "base_uri": "https://localhost:8080/",
     "height": 483
    },
    "id": "4af64533-1f44-4bb6-a064-6eab18d1a7cc",
    "outputId": "3cc3ebe9-8ceb-41d2-86a6-727469e45470"
   },
   "outputs": [
    {
     "data": {
      "text/html": [
       "<div>\n",
       "<style scoped>\n",
       "    .dataframe tbody tr th:only-of-type {\n",
       "        vertical-align: middle;\n",
       "    }\n",
       "\n",
       "    .dataframe tbody tr th {\n",
       "        vertical-align: top;\n",
       "    }\n",
       "\n",
       "    .dataframe thead th {\n",
       "        text-align: right;\n",
       "    }\n",
       "</style>\n",
       "<table border=\"1\" class=\"dataframe\">\n",
       "  <thead>\n",
       "    <tr style=\"text-align: right;\">\n",
       "      <th></th>\n",
       "      <th>feature</th>\n",
       "      <th>coef</th>\n",
       "    </tr>\n",
       "  </thead>\n",
       "  <tbody>\n",
       "    <tr>\n",
       "      <th>0</th>\n",
       "      <td>maxtempF</td>\n",
       "      <td>-0.146836</td>\n",
       "    </tr>\n",
       "    <tr>\n",
       "      <th>1</th>\n",
       "      <td>mintempF</td>\n",
       "      <td>-0.489950</td>\n",
       "    </tr>\n",
       "    <tr>\n",
       "      <th>2</th>\n",
       "      <td>avgtempF</td>\n",
       "      <td>0.551573</td>\n",
       "    </tr>\n",
       "    <tr>\n",
       "      <th>3</th>\n",
       "      <td>totalSnow_cm</td>\n",
       "      <td>-0.073959</td>\n",
       "    </tr>\n",
       "    <tr>\n",
       "      <th>4</th>\n",
       "      <td>sunHour</td>\n",
       "      <td>0.424606</td>\n",
       "    </tr>\n",
       "    <tr>\n",
       "      <th>5</th>\n",
       "      <td>uvIndex</td>\n",
       "      <td>1.284921</td>\n",
       "    </tr>\n",
       "    <tr>\n",
       "      <th>6</th>\n",
       "      <td>humidity</td>\n",
       "      <td>-0.043630</td>\n",
       "    </tr>\n",
       "    <tr>\n",
       "      <th>7</th>\n",
       "      <td>precipInches</td>\n",
       "      <td>1.177796</td>\n",
       "    </tr>\n",
       "    <tr>\n",
       "      <th>8</th>\n",
       "      <td>pressureInches</td>\n",
       "      <td>0.173102</td>\n",
       "    </tr>\n",
       "    <tr>\n",
       "      <th>9</th>\n",
       "      <td>cloudcover</td>\n",
       "      <td>0.016153</td>\n",
       "    </tr>\n",
       "    <tr>\n",
       "      <th>10</th>\n",
       "      <td>windspeedMiles</td>\n",
       "      <td>0.033739</td>\n",
       "    </tr>\n",
       "    <tr>\n",
       "      <th>11</th>\n",
       "      <td>visibilityMiles</td>\n",
       "      <td>-0.084007</td>\n",
       "    </tr>\n",
       "    <tr>\n",
       "      <th>12</th>\n",
       "      <td>lag_1</td>\n",
       "      <td>0.304185</td>\n",
       "    </tr>\n",
       "    <tr>\n",
       "      <th>13</th>\n",
       "      <td>lag_2</td>\n",
       "      <td>0.086955</td>\n",
       "    </tr>\n",
       "  </tbody>\n",
       "</table>\n",
       "</div>"
      ],
      "text/plain": [
       "            feature      coef\n",
       "0          maxtempF -0.146836\n",
       "1          mintempF -0.489950\n",
       "2          avgtempF  0.551573\n",
       "3      totalSnow_cm -0.073959\n",
       "4           sunHour  0.424606\n",
       "5           uvIndex  1.284921\n",
       "6          humidity -0.043630\n",
       "7      precipInches  1.177796\n",
       "8    pressureInches  0.173102\n",
       "9        cloudcover  0.016153\n",
       "10   windspeedMiles  0.033739\n",
       "11  visibilityMiles -0.084007\n",
       "12            lag_1  0.304185\n",
       "13            lag_2  0.086955"
      ]
     },
     "execution_count": 9,
     "metadata": {},
     "output_type": "execute_result"
    }
   ],
   "source": [
    "pd.DataFrame({\n",
    "    'feature': X.columns,\n",
    "    'coef'   : lr.coef_\n",
    "})"
   ]
  },
  {
   "cell_type": "markdown",

   "id": "826fb545",

   "id": "6a20ba5a",

   "metadata": {
    "id": "d35b8da3-3f77-4376-a5a0-5cbd53631c27"
   },
   "source": [
    "The fact that the `uvIndex` feature has the largest coefficient is not suprising, as we are talking about solar panels here. Same with `precipInches` - it makes sense that a day with precipitation will mean lower output in general."
   ]
  },
  {
   "cell_type": "markdown",

   "id": "61b64482",

   "id": "cff6d8e5",

   "metadata": {
    "id": "6115b691-1d44-4d45-a70b-14c0a55dad1c"
   },
   "source": [
    "### SVR Modeling"
   ]
  },
  {
   "cell_type": "markdown",

   "id": "c18e63ff",

   "id": "597a5c79",

   "metadata": {
    "id": "2be94300-d245-4a55-bcbf-1c2fe85f85f3"
   },
   "source": [
    "One of the best ways to create a more powerful predictive model (outside of using a neural net, which would not be advisable on such a small dataset) is to utilize Support Vector Machines. A regressor SVM can be found in `scikitlearn`:"
   ]
  },
  {
   "cell_type": "code",
   "execution_count": 10,

   "id": "0d1630ad",

   "id": "b64e3080",

   "metadata": {
    "id": "9a9fc2e3-6686-4eb7-9e68-1a1e3a15374e"
   },
   "outputs": [],
   "source": [
    "# Imports\n",
    "from sklearn.svm import SVR"
   ]
  },
  {
   "cell_type": "code",
   "execution_count": 11,

   "id": "caee515c",

   "id": "a65f861a",

   "metadata": {
    "id": "1f00b4ad-f9e9-465d-8330-d94dd508e891"
   },
   "outputs": [],
   "source": [
    "# Setting up metrics and parameter storage\n",
    "model_params_svr = {}\n",
    "count_svr = 0"
   ]
  },
  {
   "cell_type": "code",
   "execution_count": 18,

   "id": "61631ca2",

   "id": "7d7b6433",

   "metadata": {
    "colab": {
     "base_uri": "https://localhost:8080/",
     "height": 303
    },
    "id": "e6ec909c-5b79-4e9f-a7df-83d03ba7b714",
    "outputId": "51411b28-970e-44a3-d372-3c6b99e06dd4"
   },
   "outputs": [
    {
     "name": "stdout",
     "output_type": "stream",
     "text": [
      "Fitting 3 folds for each of 60 candidates, totalling 180 fits\n"
     ]
    },
    {
     "data": {
      "text/html": [
       "<div>\n",
       "<style scoped>\n",
       "    .dataframe tbody tr th:only-of-type {\n",
       "        vertical-align: middle;\n",
       "    }\n",
       "\n",
       "    .dataframe tbody tr th {\n",
       "        vertical-align: top;\n",
       "    }\n",
       "\n",
       "    .dataframe thead th {\n",
       "        text-align: right;\n",
       "    }\n",
       "</style>\n",
       "<table border=\"1\" class=\"dataframe\">\n",
       "  <thead>\n",
       "    <tr style=\"text-align: right;\">\n",
       "      <th></th>\n",
       "      <th>svr__C</th>\n",
       "      <th>svr__degree</th>\n",
       "      <th>svr__gamma</th>\n",
       "      <th>svr__kernel</th>\n",
       "      <th>training_score</th>\n",
       "      <th>test_score</th>\n",
       "    </tr>\n",
       "  </thead>\n",
       "  <tbody>\n",
       "    <tr>\n",
       "      <th>model_1</th>\n",
       "      <td>100</td>\n",
       "      <td>1</td>\n",
       "      <td>scale</td>\n",
       "      <td>poly</td>\n",
       "      <td>0.708363</td>\n",
       "      <td>0.70846</td>\n",
       "    </tr>\n",
       "  </tbody>\n",
       "</table>\n",
       "</div>"
      ],
      "text/plain": [
       "         svr__C  svr__degree svr__gamma svr__kernel  training_score  \\\n",
       "model_1     100            1      scale        poly        0.708363   \n",
       "\n",
       "         test_score  \n",
       "model_1     0.70846  "
      ]
     },
     "execution_count": 18,
     "metadata": {},
     "output_type": "execute_result"
    }
   ],
   "source": [
    "# Set up a pipeline and gridsearch over it - first reset count and model params dict\n",
    "model_params_svr = model_params_svr\n",
    "count_svr = count_svr\n",
    "\n",
    "pipe_svr = Pipeline([\n",
    "    ('sc', StandardScaler()),\n",
    "    ('svr', SVR())\n",
    "])\n",
    "\n",
    "params_svr = {\n",
    "    # 'sc__with_mean' : [True, False],\n",
    "    # 'sc__with_std'  : [True, False],\n",
    "    'svr__kernel'   : ['poly', 'rbf'],\n",
    "    'svr__degree'   : [1, 3, 5],\n",
    "    'svr__C'        : [25, 30, 35, 40, 100],\n",
    "    'svr__gamma'    : ['scale', 'auto']\n",
    "}\n",
    "\n",
    "grid_svr = GridSearchCV(pipe_svr, param_grid=params_svr, \n",
    "                     n_jobs=-1, cv=3, verbose=1)\n",
    "\n",
    "grid_svr.fit(X_train, y_train)\n",
    "\n",
    "# Return the params used and their associated scores - code taken from Joseph's Project 3\n",
    "count_svr += 1\n",
    "\n",
    "grid_svr.best_params_['training_score'] = grid_svr.best_score_\n",
    "model_params_svr[f'model_{count_svr}'] = grid_svr.best_params_\n",
    "grid_svr.best_params_['test_score'] = grid_svr.score(X_test, y_test)\n",
    "\n",
    "model_df_svr = pd.DataFrame.from_dict(model_params_svr, orient='index')\n",
    "\n",
    "model_df_svr"
   ]
  },
  {
   "cell_type": "code",
   "execution_count": 19,

   "id": "3db98853",

   "id": "bc272cc9",

   "metadata": {
    "colab": {
     "base_uri": "https://localhost:8080/"
    },
    "id": "xk_LRLbVLgC4",
    "outputId": "07b9c7af-a194-4bed-823c-85365e514061"
   },
   "outputs": [
    {
     "data": {
      "text/plain": [
       "4.556860817055959"
      ]
     },
     "execution_count": 19,
     "metadata": {},
     "output_type": "execute_result"
    }
   ],
   "source": [
    "# Find the RMSE\n",
    "preds_svr = grid_svr.predict(X_test)\n",
    "mean_squared_error(y_test, preds_svr, squared=False)"
   ]
  },
  {
   "cell_type": "markdown",

   "id": "2ee4cabd",

   "id": "13264185",

   "metadata": {
    "id": "6PJ1Ho5WLGHJ"
   },
   "source": [
    "SVR is struggling to get a score over 0.71 on the testing set, no matter the hyperparameters. For this reason, let's instead try a different model."
   ]
  },
  {
   "cell_type": "markdown",

   "id": "8548f3ee",

   "id": "5ee2d94c",

   "metadata": {},
   "source": [
    "### Bagging Regressor"
   ]
  },
  {
   "cell_type": "markdown",

   "id": "b9242aa5",

   "id": "337088ed",

   "metadata": {
    "id": "6_Zt7DiLNTSp"
   },
   "source": [
    "To try and get around the issues with the SVR model, let's try a model that utilizes bagging to aggregate the decisions of many models over different random sets of the data. This model can make use of SVR as a base model."
   ]
  },
  {
   "cell_type": "code",
   "execution_count": 13,

   "id": "f72dec74",

   "id": "05f9a6b2",

   "metadata": {
    "id": "LXWWnQvm_zHg"
   },
   "outputs": [],
   "source": [
    "# Imports\n",
    "from sklearn.ensemble import BaggingRegressor\n",
    "from sklearn.tree import DecisionTreeRegressor"
   ]
  },
  {
   "cell_type": "code",
   "execution_count": 14,

   "id": "fc3ba0eb",

   "id": "bd032bc0",

   "metadata": {
    "id": "RTR6APsfO9CD"
   },
   "outputs": [],
   "source": [
    "# Setting up metrics and parameter storage\n",
    "model_params_bt = {}\n",
    "count_bt = 0"
   ]
  },
  {
   "cell_type": "code",
   "execution_count": 15,

   "id": "c54b931f",

   "id": "7e7047ff",

   "metadata": {
    "id": "ujKIv5D1Y-Ti"
   },
   "outputs": [],
   "source": [
    "# Scale the data\n",
    "sc = StandardScaler()\n",
    "Z_train = sc.fit_transform(X_train)\n",
    "Z_test = sc.transform(X_test)"
   ]
  },
  {
   "cell_type": "code",
   "execution_count": 16,

   "id": "76304a5f",

   "id": "bb4353a4",

   "metadata": {
    "colab": {
     "base_uri": "https://localhost:8080/",
     "height": 264
    },
    "id": "Wztl4IEUUukn",
    "outputId": "f8bbcd99-5fe8-4df2-eac4-0479f9f1cc6f"
   },
   "outputs": [
    {
     "name": "stdout",
     "output_type": "stream",
     "text": [
      "Fitting 2 folds for each of 360 candidates, totalling 720 fits\n"
     ]
    },
    {
     "data": {
      "text/html": [
       "<div>\n",
       "<style scoped>\n",
       "    .dataframe tbody tr th:only-of-type {\n",
       "        vertical-align: middle;\n",
       "    }\n",
       "\n",
       "    .dataframe tbody tr th {\n",
       "        vertical-align: top;\n",
       "    }\n",
       "\n",
       "    .dataframe thead th {\n",
       "        text-align: right;\n",
       "    }\n",
       "</style>\n",
       "<table border=\"1\" class=\"dataframe\">\n",
       "  <thead>\n",
       "    <tr style=\"text-align: right;\">\n",
       "      <th></th>\n",
       "      <th>base_estimator__max_depth</th>\n",
       "      <th>base_estimator__min_samples_leaf</th>\n",
       "      <th>base_estimator__min_samples_split</th>\n",
       "      <th>max_samples</th>\n",
       "      <th>n_estimators</th>\n",
       "      <th>training_score</th>\n",
       "      <th>test_score</th>\n",
       "    </tr>\n",
       "  </thead>\n",
       "  <tbody>\n",
       "    <tr>\n",
       "      <th>model_1</th>\n",
       "      <td>50</td>\n",
       "      <td>2</td>\n",
       "      <td>4</td>\n",
       "      <td>0.2</td>\n",
       "      <td>200</td>\n",
       "      <td>0.702522</td>\n",
       "      <td>0.728071</td>\n",
       "    </tr>\n",
       "  </tbody>\n",
       "</table>\n",
       "</div>"
      ],
      "text/plain": [
       "         base_estimator__max_depth  base_estimator__min_samples_leaf  \\\n",
       "model_1                         50                                 2   \n",
       "\n",
       "         base_estimator__min_samples_split  max_samples  n_estimators  \\\n",
       "model_1                                  4          0.2           200   \n",
       "\n",
       "         training_score  test_score  \n",
       "model_1        0.702522    0.728071  "
      ]
     },
     "execution_count": 16,
     "metadata": {},
     "output_type": "execute_result"
    }
   ],
   "source": [
    "# Gridsearch\n",
    "model_params_bt = model_params_bt\n",
    "count_bt = count_bt\n",
    "\n",
    "br = BaggingRegressor(base_estimator=DecisionTreeRegressor())\n",
    "\n",
    "params_bt = {\n",
    "    'base_estimator__max_depth'        : [10, 20, 25, 50, 75],\n",
    "    'base_estimator__min_samples_split': [4, 6, 10, 15],\n",
    "    'base_estimator__min_samples_leaf' : [2, 4, 8],\n",
    "    'n_estimators'                     : [100, 200, 1000],\n",
    "    'max_samples'                      : [0.05, 0.2]\n",
    "}\n",
    "\n",
    "grid_bt = GridSearchCV(br, param_grid=params_bt, n_jobs=-1,\n",
    "                      verbose=1, cv=2)\n",
    "\n",
    "grid_bt.fit(Z_train, y_train)\n",
    "\n",
    "# Return the params used and their associated scores \n",
    "count_bt += 1\n",
    "\n",
    "grid_bt.best_params_['training_score'] = grid_bt.best_score_\n",
    "model_params_bt[f'model_{count_bt}'] = grid_bt.best_params_\n",
    "grid_bt.best_params_['test_score'] = grid_bt.score(Z_test, y_test)\n",
    "\n",
    "model_df_bt = pd.DataFrame.from_dict(model_params_bt, orient='index')\n",
    "\n",
    "model_df_bt"
   ]
  },
  {
   "cell_type": "markdown",

   "id": "07803cb6",

   "id": "54a42c78",

   "metadata": {
    "id": "IYcSfvFKjx6I"
   },
   "source": [
    "This model is still not seeing a lot of improvement over the SVR or even the linear regression model. This indicates that the best way to improve the score here would be to go back and perform some more feature engineering (i.e. include more lag terms)."
   ]
  }
 ],
 "metadata": {
  "colab": {
   "name": "02-modeling-joe.ipynb",
   "provenance": []
  },
  "kernelspec": {
   "display_name": "Python 3",
   "language": "python",
   "name": "python3"
  },
  "language_info": {
   "codemirror_mode": {
    "name": "ipython",
    "version": 3
   },
   "file_extension": ".py",
   "mimetype": "text/x-python",
   "name": "python",
   "nbconvert_exporter": "python",
   "pygments_lexer": "ipython3",
   "version": "3.8.8"
  }
 },
 "nbformat": 4,
 "nbformat_minor": 5
}
