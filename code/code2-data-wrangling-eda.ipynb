{
 "cells": [
  {
   "cell_type": "markdown",
<<<<<<< HEAD
   "id": "fb506dba",
=======
   "id": "1b58b3ec",
>>>>>>> b31230ba1d7921c85dbb6ae2aa32f9536f4192b4
   "metadata": {},
   "source": [
    "# ![](https://ga-dash.s3.amazonaws.com/production/assets/logo-9f88ae6c9c3871690e33280fcf557f33.png) Group Project: Predicting Solar Power Generation with Weather Forecasting"
   ]
  },
  {
   "cell_type": "markdown",
<<<<<<< HEAD
   "id": "ceeae628",
=======
   "id": "8fe1f0ef",
>>>>>>> b31230ba1d7921c85dbb6ae2aa32f9536f4192b4
   "metadata": {},
   "source": [
    "### Corina Lentz, Joseph Hicks, and Garrett Hart"
   ]
  },
  {
   "cell_type": "markdown",
<<<<<<< HEAD
   "id": "d6afaddb",
=======
   "id": "44801a0c",
>>>>>>> b31230ba1d7921c85dbb6ae2aa32f9536f4192b4
   "metadata": {},
   "source": [
    "## Notebook 2: Background Info, Data Wrangling, and EDA \n",
    "---"
   ]
  },
  {
   "cell_type": "markdown",
<<<<<<< HEAD
   "id": "07f7099b",
=======
   "id": "2539b23b",
>>>>>>> b31230ba1d7921c85dbb6ae2aa32f9536f4192b4
   "metadata": {},
   "source": [
    "## Problem Statement"
   ]
  },
  {
   "cell_type": "markdown",
<<<<<<< HEAD
   "id": "2d6c50b8",
=======
   "id": "a90ab7ae",
>>>>>>> b31230ba1d7921c85dbb6ae2aa32f9536f4192b4
   "metadata": {},
   "source": [
    "Around the world there is a strong push to move away from fossil fuels towards renewable energy. One of the challenges of working with renewable energy is being able to accurately predict how much energy will be produced to ensure that energy needs will be met. In this project, we will create a model that can predict the energy output of a residential solar array located in Antwerp, Belgium."
   ]
  },
  {
   "cell_type": "markdown",
<<<<<<< HEAD
   "id": "926aa3f6",
=======
   "id": "ec4543ff",
>>>>>>> b31230ba1d7921c85dbb6ae2aa32f9536f4192b4
   "metadata": {},
   "source": [
    "---"
   ]
  },
  {
   "cell_type": "markdown",
<<<<<<< HEAD
   "id": "465537d0",
=======
   "id": "bc0e5f3e",
>>>>>>> b31230ba1d7921c85dbb6ae2aa32f9536f4192b4
   "metadata": {},
   "source": [
    "### Background\n",
    "\n"
   ]
  },
  {
   "cell_type": "markdown",
<<<<<<< HEAD
   "id": "758a53cb",
=======
   "id": "18228331",
>>>>>>> b31230ba1d7921c85dbb6ae2aa32f9536f4192b4
   "metadata": {},
   "source": [
    "“A solar cell, or photovoltaic cell (PV), is a device that converts light into electric current using the photovoltaic effect.” [Wikipedia [1]](https://en.wikipedia.org/wiki/Solar_power). Individual photovoltaic cells, or PV cells, are connected together to form larger units known as panels or modules, which can then be connected together to create an array. The PV cells generate direct-current (DC) electricity that needs to be converted to the alternating-current (AC) electricity that most electronics use. This conversion is done by linking the PV arrays to an inverter which is then linked to the electrical grid, creating a complete photovoltaic system. Residential PV systems are typically linked to the electrical grid through the home’s fuse box and may also include a battery to store the electricity for future use. The efficiency and capacity of a PV system are partly determined by the materials its PV panels are made of. Other factors that impact the electricity output of a PV system include the direction the panels are facing, the degree of incline of the panels, and the weather[[2]](https://www.energy.gov/eere/solar/solar-photovoltaic-technology-basics),[[3]](https://en.wikipedia.org/wiki/Photovoltaic_system) .\n",
    "\n",
    "The residential PV system we are focusing on has an array of 24 polycrystalline silicon panels made by S-Energy with a capacity of 210 watts each. S-Energy is a popular PV system brand known for being affordable, well made, and having consistent performance [[4]](https://www.ysgsolar.com/blog/which-solar-panels-are-best-modules-install-your-home-ysg-solar), [[5]](https://sunshinerenewable.com/s-energy-solar-panels/) . The panels face west by south-west with a 45-degree incline. This PV system is located in Antwerp, Belgium. Antwerp has temperatures averaging 32-77 °F and 2.2-3.1\" of precipitation a month. Winds blowing-in from the Atlantic keep the area relatively cool with consistent precipitation throughout the year.[[6]](https://www.climatestotravel.com/climate/belgium/antwerp) .  "
   ]
  },
  {
   "cell_type": "markdown",
<<<<<<< HEAD
   "id": "a355bc96",
=======
   "id": "d71bd62d",
>>>>>>> b31230ba1d7921c85dbb6ae2aa32f9536f4192b4
   "metadata": {},
   "source": [
    "![Residential PV System Schematic](../assets/residential-pv-system-schematic.jpeg)"
   ]
  },
  {
   "cell_type": "markdown",
<<<<<<< HEAD
   "id": "c57f0a8d",
=======
   "id": "764e9d67",
>>>>>>> b31230ba1d7921c85dbb6ae2aa32f9536f4192b4
   "metadata": {},
   "source": [
    "Residential PV System Schematic courtesy of Wikipedia. Image found in this [article](https://en.wikipedia.org/wiki/Photovoltaic_system) ."
   ]
  },
  {
   "cell_type": "markdown",
<<<<<<< HEAD
   "id": "305603a4",
=======
   "id": "ab1b3fdf",
>>>>>>> b31230ba1d7921c85dbb6ae2aa32f9536f4192b4
   "metadata": {},
   "source": [
    "---"
   ]
  },
  {
   "cell_type": "markdown",
<<<<<<< HEAD
   "id": "d7b90000",
=======
   "id": "b7e7af58",
>>>>>>> b31230ba1d7921c85dbb6ae2aa32f9536f4192b4
   "metadata": {},
   "source": [
    "### Data\n",
    "\n",
    "The electrical output data from the residential PV system was recorded in kilowatts per hour (kWh) everyday in the early hours of the morning from 2011-10-26 through 2020-11-10 for a total of 3304 observations. The full dataset and additional details can be found on [Kaggle[7]](https://www.kaggle.com/fvcoppen/solarpanelspower) The weather data for Antwerp, Belgium was scraped from [Weather World Online[8]](https://www.worldweatheronline.com/) for the same timeframe using Weather World Online's [API[9]](https://www.worldweatheronline.com/developer/api/docs/historical-weather-api.aspx#qparameter) in the first notebook. "
   ]
  },
  {
   "cell_type": "markdown",
<<<<<<< HEAD
   "id": "606cc46f",
=======
   "id": "b0941193",
>>>>>>> b31230ba1d7921c85dbb6ae2aa32f9536f4192b4
   "metadata": {},
   "source": [
    "---"
   ]
  },
  {
   "cell_type": "markdown",
<<<<<<< HEAD
   "id": "0f4d9804",
=======
   "id": "b790f034",
>>>>>>> b31230ba1d7921c85dbb6ae2aa32f9536f4192b4
   "metadata": {},
   "source": [
    "### Data Dictionary\n",
    "\n",
    "\n",
    "|***Feature***|***Description***|\n",
    "|---|---|\n",
    "|***date***|The date that the observation was made in the Year-Month-Day format|\n",
    "|***generated_kWh***|The total solar power generated by the solar array that day in kWh.|\n",
    "|***lag_1***|The solar power generated the previous day shifted forward to this date, in kWh.|\n",
    "|***lag_2***|The solar power generated two days before this date shifted forward to this date, kWh.|\n",
    "\n",
    "A detailed dictionary for the weather data can be found [here[9]](https://www.worldweatheronline.com/developer/api/docs/historical-weather-api.aspx#qparameter) "
   ]
  },
  {
   "cell_type": "markdown",
<<<<<<< HEAD
   "id": "906e0807",
=======
   "id": "776de78f",
>>>>>>> b31230ba1d7921c85dbb6ae2aa32f9536f4192b4
   "metadata": {},
   "source": [
    "### Reading in the PV Data\n",
    "\n",
    "\n",
    "First, we will need to read in the daily solar panel generation data. This data came from the Kaggle user [fvcoppen](https://www.kaggle.com/fvcoppen/solarpanelspower):"
   ]
  },
  {
   "cell_type": "code",
   "execution_count": 1,
<<<<<<< HEAD
   "id": "7e9e6a93",
=======
   "id": "ac55ce5e",
>>>>>>> b31230ba1d7921c85dbb6ae2aa32f9536f4192b4
   "metadata": {},
   "outputs": [],
   "source": [
    "# Imports\n",
    "import numpy as np\n",
    "import pandas as pd\n",
    "import matplotlib.pyplot as plt\n",
    "import seaborn as sns"
   ]
  },
  {
   "cell_type": "code",
   "execution_count": 2,
<<<<<<< HEAD
   "id": "5d0068f2",
=======
   "id": "05103a5c",
>>>>>>> b31230ba1d7921c85dbb6ae2aa32f9536f4192b4
   "metadata": {},
   "outputs": [
    {
     "data": {
      "text/html": [
       "<div>\n",
       "<style scoped>\n",
       "    .dataframe tbody tr th:only-of-type {\n",
       "        vertical-align: middle;\n",
       "    }\n",
       "\n",
       "    .dataframe tbody tr th {\n",
       "        vertical-align: top;\n",
       "    }\n",
       "\n",
       "    .dataframe thead th {\n",
       "        text-align: right;\n",
       "    }\n",
       "</style>\n",
       "<table border=\"1\" class=\"dataframe\">\n",
       "  <thead>\n",
       "    <tr style=\"text-align: right;\">\n",
       "      <th></th>\n",
       "      <th>date</th>\n",
       "      <th>Cumulative_solar_power</th>\n",
       "      <th>kWh electricity/day</th>\n",
       "      <th>Gas/day</th>\n",
       "    </tr>\n",
       "  </thead>\n",
       "  <tbody>\n",
       "    <tr>\n",
       "      <th>0</th>\n",
       "      <td>26/10/2011</td>\n",
       "      <td>0.1</td>\n",
       "      <td>15.1</td>\n",
       "      <td>9.0</td>\n",
       "    </tr>\n",
       "    <tr>\n",
       "      <th>1</th>\n",
       "      <td>27/10/2011</td>\n",
       "      <td>10.2</td>\n",
       "      <td>7.4</td>\n",
       "      <td>9.2</td>\n",
       "    </tr>\n",
       "    <tr>\n",
       "      <th>2</th>\n",
       "      <td>28/10/2011</td>\n",
       "      <td>20.2</td>\n",
       "      <td>5.8</td>\n",
       "      <td>8.0</td>\n",
       "    </tr>\n",
       "    <tr>\n",
       "      <th>3</th>\n",
       "      <td>29/10/2011</td>\n",
       "      <td>29.6</td>\n",
       "      <td>4.9</td>\n",
       "      <td>6.6</td>\n",
       "    </tr>\n",
       "    <tr>\n",
       "      <th>4</th>\n",
       "      <td>30/10/2011</td>\n",
       "      <td>34.2</td>\n",
       "      <td>11.7</td>\n",
       "      <td>5.3</td>\n",
       "    </tr>\n",
       "  </tbody>\n",
       "</table>\n",
       "</div>"
      ],
      "text/plain": [
       "         date  Cumulative_solar_power  kWh electricity/day  Gas/day\n",
       "0  26/10/2011                     0.1                 15.1      9.0\n",
       "1  27/10/2011                    10.2                  7.4      9.2\n",
       "2  28/10/2011                    20.2                  5.8      8.0\n",
       "3  29/10/2011                    29.6                  4.9      6.6\n",
       "4  30/10/2011                    34.2                 11.7      5.3"
      ]
     },
     "execution_count": 2,
     "metadata": {},
     "output_type": "execute_result"
    }
   ],
   "source": [
    "# Read the solar generation dataset obtained from https://www.kaggle.com/fvcoppen/solarpanelspower\n",
    "df = pd.read_csv('../data/PV_Elec_Gas3.csv')\n",
    "df.head()"
   ]
  },
  {
   "cell_type": "code",
   "execution_count": 3,
<<<<<<< HEAD
   "id": "b67e9538",
=======
   "id": "18dbae88",
>>>>>>> b31230ba1d7921c85dbb6ae2aa32f9536f4192b4
   "metadata": {},
   "outputs": [
    {
     "name": "stdout",
     "output_type": "stream",
     "text": [
      "<class 'pandas.core.frame.DataFrame'>\n",
      "RangeIndex: 3304 entries, 0 to 3303\n",
      "Data columns (total 4 columns):\n",
      " #   Column                  Non-Null Count  Dtype  \n",
      "---  ------                  --------------  -----  \n",
      " 0   date                    3304 non-null   object \n",
      " 1   Cumulative_solar_power  3304 non-null   float64\n",
      " 2   kWh electricity/day     3304 non-null   float64\n",
      " 3   Gas/day                 3304 non-null   float64\n",
      "dtypes: float64(3), object(1)\n",
      "memory usage: 103.4+ KB\n"
     ]
    }
   ],
   "source": [
    "# Check the datatypes and see if there are any nulls\n",
    "df.info()"
   ]
  },
  {
   "cell_type": "code",
   "execution_count": 4,
<<<<<<< HEAD
   "id": "e1d3697f",
=======
   "id": "1fc49837",
>>>>>>> b31230ba1d7921c85dbb6ae2aa32f9536f4192b4
   "metadata": {},
   "outputs": [
    {
     "data": {
      "text/plain": [
       "pandas._libs.tslibs.timestamps.Timestamp"
      ]
     },
     "execution_count": 4,
     "metadata": {},
     "output_type": "execute_result"
    }
   ],
   "source": [
    "# Convert the date column from strings to datetime\n",
    "df['date'] = pd.to_datetime(df['date'], format='%d/%m/%Y')\n",
    "type(df['date'][0])"
   ]
  },
  {
   "cell_type": "code",
   "execution_count": 5,
<<<<<<< HEAD
   "id": "6621bdc9",
=======
   "id": "0a054f69",
>>>>>>> b31230ba1d7921c85dbb6ae2aa32f9536f4192b4
   "metadata": {},
   "outputs": [
    {
     "data": {
      "text/html": [
       "<div>\n",
       "<style scoped>\n",
       "    .dataframe tbody tr th:only-of-type {\n",
       "        vertical-align: middle;\n",
       "    }\n",
       "\n",
       "    .dataframe tbody tr th {\n",
       "        vertical-align: top;\n",
       "    }\n",
       "\n",
       "    .dataframe thead th {\n",
       "        text-align: right;\n",
       "    }\n",
       "</style>\n",
       "<table border=\"1\" class=\"dataframe\">\n",
       "  <thead>\n",
       "    <tr style=\"text-align: right;\">\n",
       "      <th></th>\n",
       "      <th>date</th>\n",
       "      <th>Cumulative_solar_power</th>\n",
       "      <th>kWh electricity/day</th>\n",
       "      <th>Gas/day</th>\n",
       "      <th>generated_kWh</th>\n",
       "    </tr>\n",
       "  </thead>\n",
       "  <tbody>\n",
       "    <tr>\n",
       "      <th>0</th>\n",
       "      <td>2011-10-26</td>\n",
       "      <td>0.1</td>\n",
       "      <td>15.1</td>\n",
       "      <td>9.0</td>\n",
       "      <td>NaN</td>\n",
       "    </tr>\n",
       "    <tr>\n",
       "      <th>1</th>\n",
       "      <td>2011-10-27</td>\n",
       "      <td>10.2</td>\n",
       "      <td>7.4</td>\n",
       "      <td>9.2</td>\n",
       "      <td>10.1</td>\n",
       "    </tr>\n",
       "    <tr>\n",
       "      <th>2</th>\n",
       "      <td>2011-10-28</td>\n",
       "      <td>20.2</td>\n",
       "      <td>5.8</td>\n",
       "      <td>8.0</td>\n",
       "      <td>10.0</td>\n",
       "    </tr>\n",
       "    <tr>\n",
       "      <th>3</th>\n",
       "      <td>2011-10-29</td>\n",
       "      <td>29.6</td>\n",
       "      <td>4.9</td>\n",
       "      <td>6.6</td>\n",
       "      <td>9.4</td>\n",
       "    </tr>\n",
       "    <tr>\n",
       "      <th>4</th>\n",
       "      <td>2011-10-30</td>\n",
       "      <td>34.2</td>\n",
       "      <td>11.7</td>\n",
       "      <td>5.3</td>\n",
       "      <td>4.6</td>\n",
       "    </tr>\n",
       "  </tbody>\n",
       "</table>\n",
       "</div>"
      ],
      "text/plain": [
       "        date  Cumulative_solar_power  kWh electricity/day  Gas/day  \\\n",
       "0 2011-10-26                     0.1                 15.1      9.0   \n",
       "1 2011-10-27                    10.2                  7.4      9.2   \n",
       "2 2011-10-28                    20.2                  5.8      8.0   \n",
       "3 2011-10-29                    29.6                  4.9      6.6   \n",
       "4 2011-10-30                    34.2                 11.7      5.3   \n",
       "\n",
       "   generated_kWh  \n",
       "0            NaN  \n",
       "1           10.1  \n",
       "2           10.0  \n",
       "3            9.4  \n",
       "4            4.6  "
      ]
     },
     "execution_count": 5,
     "metadata": {},
     "output_type": "execute_result"
    }
   ],
   "source": [
    "# Use the `Cumulative_solar_power` column to create a new column for power generated that day\n",
    "df['generated_kWh'] = df['Cumulative_solar_power'] - df['Cumulative_solar_power'].shift(1)\n",
    "df.head()"
   ]
  },
  {
   "cell_type": "code",
   "execution_count": 6,
<<<<<<< HEAD
   "id": "c6dc6a9b",
=======
   "id": "295c1d45",
>>>>>>> b31230ba1d7921c85dbb6ae2aa32f9536f4192b4
   "metadata": {},
   "outputs": [],
   "source": [
    "# Drop the first entry since the solar panels might not have been operating the whole day\n",
    "df.drop(labels=0, axis='index', inplace=True)"
   ]
  },
  {
   "cell_type": "code",
   "execution_count": 7,
<<<<<<< HEAD
   "id": "7572c8f3",
=======
   "id": "6063f075",
>>>>>>> b31230ba1d7921c85dbb6ae2aa32f9536f4192b4
   "metadata": {
    "scrolled": true,
    "tags": []
   },
   "outputs": [
    {
     "data": {
      "text/html": [
       "<div>\n",
       "<style scoped>\n",
       "    .dataframe tbody tr th:only-of-type {\n",
       "        vertical-align: middle;\n",
       "    }\n",
       "\n",
       "    .dataframe tbody tr th {\n",
       "        vertical-align: top;\n",
       "    }\n",
       "\n",
       "    .dataframe thead th {\n",
       "        text-align: right;\n",
       "    }\n",
       "</style>\n",
       "<table border=\"1\" class=\"dataframe\">\n",
       "  <thead>\n",
       "    <tr style=\"text-align: right;\">\n",
       "      <th></th>\n",
       "      <th>date</th>\n",
       "      <th>generated_kWh</th>\n",
       "    </tr>\n",
       "  </thead>\n",
       "  <tbody>\n",
       "    <tr>\n",
       "      <th>1</th>\n",
       "      <td>2011-10-27</td>\n",
       "      <td>10.1</td>\n",
       "    </tr>\n",
       "    <tr>\n",
       "      <th>2</th>\n",
       "      <td>2011-10-28</td>\n",
       "      <td>10.0</td>\n",
       "    </tr>\n",
       "    <tr>\n",
       "      <th>3</th>\n",
       "      <td>2011-10-29</td>\n",
       "      <td>9.4</td>\n",
       "    </tr>\n",
       "    <tr>\n",
       "      <th>4</th>\n",
       "      <td>2011-10-30</td>\n",
       "      <td>4.6</td>\n",
       "    </tr>\n",
       "    <tr>\n",
       "      <th>5</th>\n",
       "      <td>2011-10-31</td>\n",
       "      <td>3.8</td>\n",
       "    </tr>\n",
       "    <tr>\n",
       "      <th>6</th>\n",
       "      <td>2011-11-01</td>\n",
       "      <td>8.6</td>\n",
       "    </tr>\n",
       "    <tr>\n",
       "      <th>7</th>\n",
       "      <td>2011-11-02</td>\n",
       "      <td>5.0</td>\n",
       "    </tr>\n",
       "    <tr>\n",
       "      <th>8</th>\n",
       "      <td>2011-11-03</td>\n",
       "      <td>7.0</td>\n",
       "    </tr>\n",
       "    <tr>\n",
       "      <th>9</th>\n",
       "      <td>2011-11-04</td>\n",
       "      <td>1.9</td>\n",
       "    </tr>\n",
       "    <tr>\n",
       "      <th>10</th>\n",
       "      <td>2011-11-05</td>\n",
       "      <td>5.2</td>\n",
       "    </tr>\n",
       "    <tr>\n",
       "      <th>11</th>\n",
       "      <td>2011-11-06</td>\n",
       "      <td>6.1</td>\n",
       "    </tr>\n",
       "    <tr>\n",
       "      <th>12</th>\n",
       "      <td>2011-11-07</td>\n",
       "      <td>1.5</td>\n",
       "    </tr>\n",
       "    <tr>\n",
       "      <th>13</th>\n",
       "      <td>2011-11-08</td>\n",
       "      <td>0.5</td>\n",
       "    </tr>\n",
       "    <tr>\n",
       "      <th>14</th>\n",
       "      <td>2011-11-09</td>\n",
       "      <td>2.3</td>\n",
       "    </tr>\n",
       "    <tr>\n",
       "      <th>15</th>\n",
       "      <td>2011-11-10</td>\n",
       "      <td>6.4</td>\n",
       "    </tr>\n",
       "    <tr>\n",
       "      <th>16</th>\n",
       "      <td>2011-11-11</td>\n",
       "      <td>6.6</td>\n",
       "    </tr>\n",
       "    <tr>\n",
       "      <th>17</th>\n",
       "      <td>2011-11-12</td>\n",
       "      <td>6.4</td>\n",
       "    </tr>\n",
       "    <tr>\n",
       "      <th>18</th>\n",
       "      <td>2011-11-13</td>\n",
       "      <td>4.4</td>\n",
       "    </tr>\n",
       "    <tr>\n",
       "      <th>19</th>\n",
       "      <td>2011-11-14</td>\n",
       "      <td>1.5</td>\n",
       "    </tr>\n",
       "    <tr>\n",
       "      <th>20</th>\n",
       "      <td>2011-11-15</td>\n",
       "      <td>7.7</td>\n",
       "    </tr>\n",
       "    <tr>\n",
       "      <th>21</th>\n",
       "      <td>2011-11-16</td>\n",
       "      <td>6.9</td>\n",
       "    </tr>\n",
       "    <tr>\n",
       "      <th>22</th>\n",
       "      <td>2011-11-17</td>\n",
       "      <td>6.3</td>\n",
       "    </tr>\n",
       "    <tr>\n",
       "      <th>23</th>\n",
       "      <td>2011-11-18</td>\n",
       "      <td>2.0</td>\n",
       "    </tr>\n",
       "    <tr>\n",
       "      <th>24</th>\n",
       "      <td>2011-11-19</td>\n",
       "      <td>6.2</td>\n",
       "    </tr>\n",
       "    <tr>\n",
       "      <th>25</th>\n",
       "      <td>2011-11-20</td>\n",
       "      <td>6.0</td>\n",
       "    </tr>\n",
       "    <tr>\n",
       "      <th>26</th>\n",
       "      <td>2011-11-21</td>\n",
       "      <td>6.0</td>\n",
       "    </tr>\n",
       "    <tr>\n",
       "      <th>27</th>\n",
       "      <td>2011-11-22</td>\n",
       "      <td>2.5</td>\n",
       "    </tr>\n",
       "    <tr>\n",
       "      <th>28</th>\n",
       "      <td>2011-11-23</td>\n",
       "      <td>3.3</td>\n",
       "    </tr>\n",
       "    <tr>\n",
       "      <th>29</th>\n",
       "      <td>2011-11-24</td>\n",
       "      <td>1.5</td>\n",
       "    </tr>\n",
       "    <tr>\n",
       "      <th>30</th>\n",
       "      <td>2011-11-25</td>\n",
       "      <td>1.9</td>\n",
       "    </tr>\n",
       "  </tbody>\n",
       "</table>\n",
       "</div>"
      ],
      "text/plain": [
       "         date  generated_kWh\n",
       "1  2011-10-27           10.1\n",
       "2  2011-10-28           10.0\n",
       "3  2011-10-29            9.4\n",
       "4  2011-10-30            4.6\n",
       "5  2011-10-31            3.8\n",
       "6  2011-11-01            8.6\n",
       "7  2011-11-02            5.0\n",
       "8  2011-11-03            7.0\n",
       "9  2011-11-04            1.9\n",
       "10 2011-11-05            5.2\n",
       "11 2011-11-06            6.1\n",
       "12 2011-11-07            1.5\n",
       "13 2011-11-08            0.5\n",
       "14 2011-11-09            2.3\n",
       "15 2011-11-10            6.4\n",
       "16 2011-11-11            6.6\n",
       "17 2011-11-12            6.4\n",
       "18 2011-11-13            4.4\n",
       "19 2011-11-14            1.5\n",
       "20 2011-11-15            7.7\n",
       "21 2011-11-16            6.9\n",
       "22 2011-11-17            6.3\n",
       "23 2011-11-18            2.0\n",
       "24 2011-11-19            6.2\n",
       "25 2011-11-20            6.0\n",
       "26 2011-11-21            6.0\n",
       "27 2011-11-22            2.5\n",
       "28 2011-11-23            3.3\n",
       "29 2011-11-24            1.5\n",
       "30 2011-11-25            1.9"
      ]
     },
     "execution_count": 7,
     "metadata": {},
     "output_type": "execute_result"
    }
   ],
   "source": [
    "# Drop the electricity and gas columns since they are not relevant to our project. Also drop the cumulative solar power column since it is redundant\n",
    "df.drop(columns=['Cumulative_solar_power', 'kWh electricity/day', 'Gas/day'], inplace=True)\n",
    "df.head(30)"
   ]
  },
  {
   "cell_type": "markdown",
<<<<<<< HEAD
   "id": "5ff00ffd",
=======
   "id": "8c5fc2cf",
>>>>>>> b31230ba1d7921c85dbb6ae2aa32f9536f4192b4
   "metadata": {},
   "source": [
    "### EDA on the PV Data\n",
    "\n",
    "Now that the data has been cleaned, let's do a bit of EDA to see if there is any seasonality or trend in the generation data. If this is the case, then the appropiate measures will be taken after the weather data has been read in. To start off, let's look at a histogram of the generation data:"
   ]
  },
  {
   "cell_type": "code",
<<<<<<< HEAD
   "execution_count": 11,
   "id": "71492479",
=======
   "execution_count": 8,
   "id": "9b8571ea",
>>>>>>> b31230ba1d7921c85dbb6ae2aa32f9536f4192b4
   "metadata": {},
   "outputs": [
    {
     "data": {
      "image/png": "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\n",
      "text/plain": [
       "<Figure size 864x432 with 1 Axes>"
      ]
     },
     "metadata": {
      "needs_background": "light"
     },
     "output_type": "display_data"
    }
   ],
   "source": [
    "# Plot the distribution of daily power generation\n",
    "plt.figure(figsize = (12, 6))\n",
    "\n",
    "plt.hist(x = df['generated_kWh'],\n",
    "         bins=np.arange(min(df['generated_kWh']), max(df['generated_kWh'])+1, 1),\n",
    "         color = 'darkseagreen',\n",
    "         edgecolor = 'black',\n",
    "         linewidth = 1);\n",
    "\n",
    "plt.title(\"Distribution of Daily Solar Power Generation\", fontsize = 18);\n",
    "plt.xlabel('Daily Power Generation (kWh)', fontsize = 16);\n",
    "plt.ylabel('Number of Days', fontsize = 16);\n",
    "plt.savefig('../assets/pv_hist_daily.jpeg')"
   ]
  },
  {
   "cell_type": "code",
<<<<<<< HEAD
   "execution_count": 12,
   "id": "c7a6e3d1",
=======
   "execution_count": 9,
   "id": "17c34e4e",
>>>>>>> b31230ba1d7921c85dbb6ae2aa32f9536f4192b4
   "metadata": {},
   "outputs": [
    {
     "data": {
      "text/plain": [
       "11.041144414168938"
      ]
     },
     "execution_count": 9,
     "metadata": {},
     "output_type": "execute_result"
    }
   ],
   "source": [
    "# Check the average power generated per day. This will be our baseline prediction\n",
    "df['generated_kWh'].mean()"
   ]
  },
  {
   "cell_type": "code",
<<<<<<< HEAD
   "execution_count": 13,
   "id": "ae5e41de",
=======
   "execution_count": 10,
   "id": "7a4ac1f5",
>>>>>>> b31230ba1d7921c85dbb6ae2aa32f9536f4192b4
   "metadata": {},
   "outputs": [
    {
     "data": {
      "image/png": "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\n",
      "text/plain": [
       "<Figure size 1080x504 with 1 Axes>"
      ]
     },
     "metadata": {
      "needs_background": "light"
     },
     "output_type": "display_data"
    }
   ],
   "source": [
    "# Plot the daily power generation over time with a horizontal line for the baseline prediction\n",
    "df.plot(kind = 'line', x = 'date', y = 'generated_kWh', figsize = (15,7), color = 'seagreen', legend=None)\n",
    "plt.title('Daily Power Generation Over Time', fontsize = 18);\n",
    "plt.axhline(y=df['generated_kWh'].mean(), color='b')\n",
    "plt.ylabel('Power Generation (kWh)');\n",
    "plt.savefig('../assets/pv_daily_gen.jpeg')"
   ]
  },
  {
   "cell_type": "markdown",
<<<<<<< HEAD
   "id": "9a1fef8e",
=======
   "id": "1bf9ddb4",
>>>>>>> b31230ba1d7921c85dbb6ae2aa32f9536f4192b4
   "metadata": {},
   "source": [
    "### Reading in the Weather Data\n",
    "\n",
    "Now that the PV data has been cleaned, we will need to read in the weather data for Antwerp, Belgium. The API calls and initial cleaning of this data can be found in [this notebook](./code1-weather-data-gathering.ipynb)."
   ]
  },
  {
   "cell_type": "code",
<<<<<<< HEAD
   "execution_count": 14,
   "id": "456679b0",
   "metadata": {},
=======
   "execution_count": 11,
   "id": "b7f126a3",
   "metadata": {
    "tags": []
   },
>>>>>>> b31230ba1d7921c85dbb6ae2aa32f9536f4192b4
   "outputs": [
    {
     "data": {
      "text/html": [
       "<div>\n",
       "<style scoped>\n",
       "    .dataframe tbody tr th:only-of-type {\n",
       "        vertical-align: middle;\n",
       "    }\n",
       "\n",
       "    .dataframe tbody tr th {\n",
       "        vertical-align: top;\n",
       "    }\n",
       "\n",
       "    .dataframe thead th {\n",
       "        text-align: right;\n",
       "    }\n",
       "</style>\n",
       "<table border=\"1\" class=\"dataframe\">\n",
       "  <thead>\n",
       "    <tr style=\"text-align: right;\">\n",
       "      <th></th>\n",
       "      <th>date</th>\n",
       "      <th>maxtempF</th>\n",
       "      <th>mintempF</th>\n",
       "      <th>avgtempF</th>\n",
       "      <th>totalSnow_cm</th>\n",
       "      <th>sunHour</th>\n",
       "      <th>uvIndex</th>\n",
       "      <th>humidity</th>\n",
       "      <th>precipInches</th>\n",
       "      <th>pressureInches</th>\n",
       "      <th>cloudcover</th>\n",
       "      <th>windspeedMiles</th>\n",
       "      <th>visibilityMiles</th>\n",
       "    </tr>\n",
       "  </thead>\n",
       "  <tbody>\n",
       "    <tr>\n",
       "      <th>0</th>\n",
       "      <td>2011-10-26</td>\n",
       "      <td>55</td>\n",
       "      <td>44</td>\n",
       "      <td>50</td>\n",
       "      <td>0.0</td>\n",
       "      <td>10.0</td>\n",
       "      <td>3</td>\n",
       "      <td>74</td>\n",
       "      <td>0.0</td>\n",
       "      <td>30</td>\n",
       "      <td>41</td>\n",
       "      <td>11</td>\n",
       "      <td>6</td>\n",
       "    </tr>\n",
       "    <tr>\n",
       "      <th>1</th>\n",
       "      <td>2011-10-27</td>\n",
       "      <td>59</td>\n",
       "      <td>44</td>\n",
       "      <td>53</td>\n",
       "      <td>0.0</td>\n",
       "      <td>10.0</td>\n",
       "      <td>4</td>\n",
       "      <td>60</td>\n",
       "      <td>0.0</td>\n",
       "      <td>30</td>\n",
       "      <td>16</td>\n",
       "      <td>9</td>\n",
       "      <td>6</td>\n",
       "    </tr>\n",
       "    <tr>\n",
       "      <th>2</th>\n",
       "      <td>2011-10-28</td>\n",
       "      <td>63</td>\n",
       "      <td>50</td>\n",
       "      <td>57</td>\n",
       "      <td>0.0</td>\n",
       "      <td>9.9</td>\n",
       "      <td>4</td>\n",
       "      <td>76</td>\n",
       "      <td>0.0</td>\n",
       "      <td>31</td>\n",
       "      <td>45</td>\n",
       "      <td>1</td>\n",
       "      <td>6</td>\n",
       "    </tr>\n",
       "    <tr>\n",
       "      <th>3</th>\n",
       "      <td>2011-10-29</td>\n",
       "      <td>63</td>\n",
       "      <td>50</td>\n",
       "      <td>58</td>\n",
       "      <td>0.0</td>\n",
       "      <td>6.6</td>\n",
       "      <td>3</td>\n",
       "      <td>79</td>\n",
       "      <td>0.0</td>\n",
       "      <td>31</td>\n",
       "      <td>72</td>\n",
       "      <td>9</td>\n",
       "      <td>6</td>\n",
       "    </tr>\n",
       "    <tr>\n",
       "      <th>4</th>\n",
       "      <td>2011-10-30</td>\n",
       "      <td>60</td>\n",
       "      <td>51</td>\n",
       "      <td>56</td>\n",
       "      <td>0.0</td>\n",
       "      <td>8.3</td>\n",
       "      <td>3</td>\n",
       "      <td>76</td>\n",
       "      <td>0.0</td>\n",
       "      <td>31</td>\n",
       "      <td>36</td>\n",
       "      <td>5</td>\n",
       "      <td>6</td>\n",
       "    </tr>\n",
       "  </tbody>\n",
       "</table>\n",
       "</div>"
      ],
      "text/plain": [
       "         date  maxtempF  mintempF  avgtempF  totalSnow_cm  sunHour  uvIndex  \\\n",
       "0  2011-10-26        55        44        50           0.0     10.0        3   \n",
       "1  2011-10-27        59        44        53           0.0     10.0        4   \n",
       "2  2011-10-28        63        50        57           0.0      9.9        4   \n",
       "3  2011-10-29        63        50        58           0.0      6.6        3   \n",
       "4  2011-10-30        60        51        56           0.0      8.3        3   \n",
       "\n",
       "   humidity  precipInches  pressureInches  cloudcover  windspeedMiles  \\\n",
       "0        74           0.0              30          41              11   \n",
       "1        60           0.0              30          16               9   \n",
       "2        76           0.0              31          45               1   \n",
       "3        79           0.0              31          72               9   \n",
       "4        76           0.0              31          36               5   \n",
       "\n",
       "   visibilityMiles  \n",
       "0                6  \n",
       "1                6  \n",
       "2                6  \n",
       "3                6  \n",
       "4                6  "
      ]
     },
     "execution_count": 11,
     "metadata": {},
     "output_type": "execute_result"
    }
   ],
   "source": [
    "# Read in the data\n",
    "weather = pd.read_csv('../data/weather_antwerp.csv')\n",
    "weather.head()"
   ]
  },
  {
   "cell_type": "code",
<<<<<<< HEAD
   "execution_count": 15,
   "id": "946aa6da",
=======
   "execution_count": 12,
   "id": "3212384a",
>>>>>>> b31230ba1d7921c85dbb6ae2aa32f9536f4192b4
   "metadata": {},
   "outputs": [],
   "source": [
    "# Remove the first entry, since this was done in the PV data\n",
    "weather.drop(labels=0, axis='index', inplace=True)"
   ]
  },
  {
   "cell_type": "code",
<<<<<<< HEAD
   "execution_count": 16,
   "id": "95983a5d",
=======
   "execution_count": 13,
   "id": "91f31a09",
>>>>>>> b31230ba1d7921c85dbb6ae2aa32f9536f4192b4
   "metadata": {},
   "outputs": [
    {
     "data": {
      "text/plain": [
       "pandas._libs.tslibs.timestamps.Timestamp"
      ]
     },
     "execution_count": 13,
     "metadata": {},
     "output_type": "execute_result"
    }
   ],
   "source": [
    "# Convert the date column from strings to datetime\n",
    "weather['date'] = pd.to_datetime(weather['date'])\n",
    "type(weather['date'][1])"
   ]
  },
  {
   "cell_type": "markdown",
<<<<<<< HEAD
   "id": "609bc274",
=======
   "id": "fd138445",
>>>>>>> b31230ba1d7921c85dbb6ae2aa32f9536f4192b4
   "metadata": {},
   "source": [
    "Before merging this data with the PV data, perform some EDA to get a better idea of what this weather data looks like:"
   ]
  },
  {
   "cell_type": "code",
<<<<<<< HEAD
   "execution_count": 17,
   "id": "8cc5d498",
=======
   "execution_count": 14,
   "id": "bbf56661",
>>>>>>> b31230ba1d7921c85dbb6ae2aa32f9536f4192b4
   "metadata": {},
   "outputs": [
    {
     "data": {
      "image/png": "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\n",
      "text/plain": [
       "<Figure size 864x720 with 1 Axes>"
      ]
     },
     "metadata": {
      "needs_background": "light"
     },
     "output_type": "display_data"
    }
   ],
   "source": [
    "# Plot max and min temps over time\n",
    "plt.figure(figsize=(12, 10))\n",
    "plt.plot(weather['date'], weather['maxtempF'], color='firebrick', alpha=0.8, label='Maximum Temp')\n",
    "plt.plot(weather['date'], weather['mintempF'], color='dodgerblue', alpha=0.8, label='Minimum Temp')\n",
    "plt.title('Minimum and Maximum Temperatures for Antwerp', fontsize=18)\n",
    "plt.xlabel('Date')\n",
    "plt.ylabel('Temperature (F)')\n",
    "plt.legend()\n",
    "plt.savefig('../assets/temps_plot.jpeg')\n",
    "plt.show()"
   ]
  },
  {
   "cell_type": "code",
<<<<<<< HEAD
   "execution_count": 18,
   "id": "28405605",
=======
   "execution_count": 15,
   "id": "6ee1928d",
>>>>>>> b31230ba1d7921c85dbb6ae2aa32f9536f4192b4
   "metadata": {},
   "outputs": [
    {
     "data": {
      "image/png": "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\n",
      "text/plain": [
       "<Figure size 864x576 with 3 Axes>"
      ]
     },
     "metadata": {
      "needs_background": "light"
     },
     "output_type": "display_data"
    }
   ],
   "source": [
    "# Now plot distributions for cloudcover, humidity and uv index\n",
    "plt.figure(figsize=(12,8))\n",
    "plt.subplot(1,3,1)\n",
    "sns.histplot(x=weather['cloudcover'],bins=10, color='slategrey')\n",
    "plt.xlabel('Percent Cloud Cover', fontsize=14)\n",
    "plt.title('Distribution of Daily Cloud Cover', fontsize=16)\n",
    "\n",
    "# For the second subplot\n",
    "plt.subplot(1,3,2)\n",
    "sns.histplot(x=weather['humidity'],bins=10, color='steelblue')\n",
    "plt.xlabel('Percent Humidity', fontsize=14)\n",
    "plt.title('Distribution of Daily Humidity', fontsize=16)\n",
    "\n",
    "# Third subplot\n",
    "plt.subplot(1,3,3)\n",
    "sns.histplot(x=weather['uvIndex'],bins=10, color='goldenrod')\n",
    "plt.xlabel('UV Index', fontsize=14)\n",
    "plt.title('Distribution of Daily UV Index', fontsize=16)\n",
    "\n",
    "plt.suptitle('Various Distributions of Weather Data for Antwerp', fontsize=18)\n",
    "plt.tight_layout()\n",
    "plt.savefig('../assets/weather_dists.jpeg')\n",
    "plt.show()"
   ]
  },
  {
   "cell_type": "markdown",
<<<<<<< HEAD
   "id": "6d4755b0",
=======
   "id": "95135095",
>>>>>>> b31230ba1d7921c85dbb6ae2aa32f9536f4192b4
   "metadata": {},
   "source": [
    "Overall, Antwerp is a good representation of most of northern and western europe - cloudy, humid and usually mild due to the moderating effects of the Atlantic Ocean.\n",
    "\n",
    "\n",
    "To perform further EDA, this weather data will need to be merged with the PV data. To do this, use `pd.merge`:"
   ]
  },
  {
   "cell_type": "code",
<<<<<<< HEAD
   "execution_count": 19,
   "id": "dd7eae99",
=======
   "execution_count": 16,
   "id": "bdd0895b",
>>>>>>> b31230ba1d7921c85dbb6ae2aa32f9536f4192b4
   "metadata": {},
   "outputs": [
    {
     "data": {
      "text/html": [
       "<div>\n",
       "<style scoped>\n",
       "    .dataframe tbody tr th:only-of-type {\n",
       "        vertical-align: middle;\n",
       "    }\n",
       "\n",
       "    .dataframe tbody tr th {\n",
       "        vertical-align: top;\n",
       "    }\n",
       "\n",
       "    .dataframe thead th {\n",
       "        text-align: right;\n",
       "    }\n",
       "</style>\n",
       "<table border=\"1\" class=\"dataframe\">\n",
       "  <thead>\n",
       "    <tr style=\"text-align: right;\">\n",
       "      <th></th>\n",
       "      <th>date</th>\n",
       "      <th>generated_kWh</th>\n",
       "      <th>maxtempF</th>\n",
       "      <th>mintempF</th>\n",
       "      <th>avgtempF</th>\n",
       "      <th>totalSnow_cm</th>\n",
       "      <th>sunHour</th>\n",
       "      <th>uvIndex</th>\n",
       "      <th>humidity</th>\n",
       "      <th>precipInches</th>\n",
       "      <th>pressureInches</th>\n",
       "      <th>cloudcover</th>\n",
       "      <th>windspeedMiles</th>\n",
       "      <th>visibilityMiles</th>\n",
       "    </tr>\n",
       "  </thead>\n",
       "  <tbody>\n",
       "    <tr>\n",
       "      <th>0</th>\n",
       "      <td>2011-10-27</td>\n",
       "      <td>10.1</td>\n",
       "      <td>59</td>\n",
       "      <td>44</td>\n",
       "      <td>53</td>\n",
       "      <td>0.0</td>\n",
       "      <td>10.0</td>\n",
       "      <td>4</td>\n",
       "      <td>60</td>\n",
       "      <td>0.0</td>\n",
       "      <td>30</td>\n",
       "      <td>16</td>\n",
       "      <td>9</td>\n",
       "      <td>6</td>\n",
       "    </tr>\n",
       "    <tr>\n",
       "      <th>1</th>\n",
       "      <td>2011-10-28</td>\n",
       "      <td>10.0</td>\n",
       "      <td>63</td>\n",
       "      <td>50</td>\n",
       "      <td>57</td>\n",
       "      <td>0.0</td>\n",
       "      <td>9.9</td>\n",
       "      <td>4</td>\n",
       "      <td>76</td>\n",
       "      <td>0.0</td>\n",
       "      <td>31</td>\n",
       "      <td>45</td>\n",
       "      <td>1</td>\n",
       "      <td>6</td>\n",
       "    </tr>\n",
       "    <tr>\n",
       "      <th>2</th>\n",
       "      <td>2011-10-29</td>\n",
       "      <td>9.4</td>\n",
       "      <td>63</td>\n",
       "      <td>50</td>\n",
       "      <td>58</td>\n",
       "      <td>0.0</td>\n",
       "      <td>6.6</td>\n",
       "      <td>3</td>\n",
       "      <td>79</td>\n",
       "      <td>0.0</td>\n",
       "      <td>31</td>\n",
       "      <td>72</td>\n",
       "      <td>9</td>\n",
       "      <td>6</td>\n",
       "    </tr>\n",
       "    <tr>\n",
       "      <th>3</th>\n",
       "      <td>2011-10-30</td>\n",
       "      <td>4.6</td>\n",
       "      <td>60</td>\n",
       "      <td>51</td>\n",
       "      <td>56</td>\n",
       "      <td>0.0</td>\n",
       "      <td>8.3</td>\n",
       "      <td>3</td>\n",
       "      <td>76</td>\n",
       "      <td>0.0</td>\n",
       "      <td>31</td>\n",
       "      <td>36</td>\n",
       "      <td>5</td>\n",
       "      <td>6</td>\n",
       "    </tr>\n",
       "    <tr>\n",
       "      <th>4</th>\n",
       "      <td>2011-10-31</td>\n",
       "      <td>3.8</td>\n",
       "      <td>60</td>\n",
       "      <td>49</td>\n",
       "      <td>55</td>\n",
       "      <td>0.0</td>\n",
       "      <td>9.9</td>\n",
       "      <td>3</td>\n",
       "      <td>69</td>\n",
       "      <td>0.0</td>\n",
       "      <td>31</td>\n",
       "      <td>6</td>\n",
       "      <td>6</td>\n",
       "      <td>6</td>\n",
       "    </tr>\n",
       "    <tr>\n",
       "      <th>5</th>\n",
       "      <td>2011-11-01</td>\n",
       "      <td>8.6</td>\n",
       "      <td>60</td>\n",
       "      <td>49</td>\n",
       "      <td>56</td>\n",
       "      <td>0.0</td>\n",
       "      <td>9.8</td>\n",
       "      <td>4</td>\n",
       "      <td>76</td>\n",
       "      <td>0.0</td>\n",
       "      <td>30</td>\n",
       "      <td>44</td>\n",
       "      <td>7</td>\n",
       "      <td>6</td>\n",
       "    </tr>\n",
       "    <tr>\n",
       "      <th>6</th>\n",
       "      <td>2011-11-02</td>\n",
       "      <td>5.0</td>\n",
       "      <td>58</td>\n",
       "      <td>47</td>\n",
       "      <td>53</td>\n",
       "      <td>0.0</td>\n",
       "      <td>9.8</td>\n",
       "      <td>3</td>\n",
       "      <td>77</td>\n",
       "      <td>0.0</td>\n",
       "      <td>30</td>\n",
       "      <td>30</td>\n",
       "      <td>7</td>\n",
       "      <td>6</td>\n",
       "    </tr>\n",
       "    <tr>\n",
       "      <th>7</th>\n",
       "      <td>2011-11-03</td>\n",
       "      <td>7.0</td>\n",
       "      <td>61</td>\n",
       "      <td>53</td>\n",
       "      <td>58</td>\n",
       "      <td>0.0</td>\n",
       "      <td>8.2</td>\n",
       "      <td>4</td>\n",
       "      <td>86</td>\n",
       "      <td>0.1</td>\n",
       "      <td>30</td>\n",
       "      <td>57</td>\n",
       "      <td>11</td>\n",
       "      <td>5</td>\n",
       "    </tr>\n",
       "    <tr>\n",
       "      <th>8</th>\n",
       "      <td>2011-11-04</td>\n",
       "      <td>1.9</td>\n",
       "      <td>63</td>\n",
       "      <td>54</td>\n",
       "      <td>58</td>\n",
       "      <td>0.0</td>\n",
       "      <td>9.7</td>\n",
       "      <td>3</td>\n",
       "      <td>65</td>\n",
       "      <td>0.0</td>\n",
       "      <td>30</td>\n",
       "      <td>3</td>\n",
       "      <td>11</td>\n",
       "      <td>6</td>\n",
       "    </tr>\n",
       "    <tr>\n",
       "      <th>9</th>\n",
       "      <td>2011-11-05</td>\n",
       "      <td>5.2</td>\n",
       "      <td>64</td>\n",
       "      <td>54</td>\n",
       "      <td>59</td>\n",
       "      <td>0.0</td>\n",
       "      <td>9.7</td>\n",
       "      <td>3</td>\n",
       "      <td>69</td>\n",
       "      <td>0.0</td>\n",
       "      <td>30</td>\n",
       "      <td>10</td>\n",
       "      <td>1</td>\n",
       "      <td>6</td>\n",
       "    </tr>\n",
       "    <tr>\n",
       "      <th>10</th>\n",
       "      <td>2011-11-06</td>\n",
       "      <td>6.1</td>\n",
       "      <td>56</td>\n",
       "      <td>51</td>\n",
       "      <td>54</td>\n",
       "      <td>0.0</td>\n",
       "      <td>6.5</td>\n",
       "      <td>3</td>\n",
       "      <td>81</td>\n",
       "      <td>0.0</td>\n",
       "      <td>30</td>\n",
       "      <td>76</td>\n",
       "      <td>8</td>\n",
       "      <td>6</td>\n",
       "    </tr>\n",
       "    <tr>\n",
       "      <th>11</th>\n",
       "      <td>2011-11-07</td>\n",
       "      <td>1.5</td>\n",
       "      <td>49</td>\n",
       "      <td>43</td>\n",
       "      <td>48</td>\n",
       "      <td>0.0</td>\n",
       "      <td>6.5</td>\n",
       "      <td>2</td>\n",
       "      <td>85</td>\n",
       "      <td>0.0</td>\n",
       "      <td>31</td>\n",
       "      <td>100</td>\n",
       "      <td>8</td>\n",
       "      <td>6</td>\n",
       "    </tr>\n",
       "    <tr>\n",
       "      <th>12</th>\n",
       "      <td>2011-11-08</td>\n",
       "      <td>0.5</td>\n",
       "      <td>54</td>\n",
       "      <td>42</td>\n",
       "      <td>49</td>\n",
       "      <td>0.0</td>\n",
       "      <td>9.6</td>\n",
       "      <td>2</td>\n",
       "      <td>76</td>\n",
       "      <td>0.0</td>\n",
       "      <td>30</td>\n",
       "      <td>12</td>\n",
       "      <td>4</td>\n",
       "      <td>6</td>\n",
       "    </tr>\n",
       "    <tr>\n",
       "      <th>13</th>\n",
       "      <td>2011-11-09</td>\n",
       "      <td>2.3</td>\n",
       "      <td>57</td>\n",
       "      <td>46</td>\n",
       "      <td>52</td>\n",
       "      <td>0.0</td>\n",
       "      <td>9.6</td>\n",
       "      <td>3</td>\n",
       "      <td>79</td>\n",
       "      <td>0.0</td>\n",
       "      <td>31</td>\n",
       "      <td>22</td>\n",
       "      <td>5</td>\n",
       "      <td>6</td>\n",
       "    </tr>\n",
       "    <tr>\n",
       "      <th>14</th>\n",
       "      <td>2011-11-10</td>\n",
       "      <td>6.4</td>\n",
       "      <td>57</td>\n",
       "      <td>42</td>\n",
       "      <td>50</td>\n",
       "      <td>0.0</td>\n",
       "      <td>9.5</td>\n",
       "      <td>4</td>\n",
       "      <td>68</td>\n",
       "      <td>0.0</td>\n",
       "      <td>31</td>\n",
       "      <td>2</td>\n",
       "      <td>7</td>\n",
       "      <td>6</td>\n",
       "    </tr>\n",
       "    <tr>\n",
       "      <th>15</th>\n",
       "      <td>2011-11-11</td>\n",
       "      <td>6.6</td>\n",
       "      <td>50</td>\n",
       "      <td>37</td>\n",
       "      <td>44</td>\n",
       "      <td>0.0</td>\n",
       "      <td>9.5</td>\n",
       "      <td>3</td>\n",
       "      <td>70</td>\n",
       "      <td>0.0</td>\n",
       "      <td>31</td>\n",
       "      <td>0</td>\n",
       "      <td>9</td>\n",
       "      <td>6</td>\n",
       "    </tr>\n",
       "    <tr>\n",
       "      <th>16</th>\n",
       "      <td>2011-11-12</td>\n",
       "      <td>6.4</td>\n",
       "      <td>54</td>\n",
       "      <td>39</td>\n",
       "      <td>48</td>\n",
       "      <td>0.0</td>\n",
       "      <td>8.7</td>\n",
       "      <td>3</td>\n",
       "      <td>74</td>\n",
       "      <td>0.0</td>\n",
       "      <td>31</td>\n",
       "      <td>13</td>\n",
       "      <td>3</td>\n",
       "      <td>6</td>\n",
       "    </tr>\n",
       "    <tr>\n",
       "      <th>17</th>\n",
       "      <td>2011-11-13</td>\n",
       "      <td>4.4</td>\n",
       "      <td>50</td>\n",
       "      <td>40</td>\n",
       "      <td>45</td>\n",
       "      <td>0.0</td>\n",
       "      <td>8.7</td>\n",
       "      <td>3</td>\n",
       "      <td>71</td>\n",
       "      <td>0.0</td>\n",
       "      <td>31</td>\n",
       "      <td>0</td>\n",
       "      <td>8</td>\n",
       "      <td>6</td>\n",
       "    </tr>\n",
       "    <tr>\n",
       "      <th>18</th>\n",
       "      <td>2011-11-14</td>\n",
       "      <td>1.5</td>\n",
       "      <td>52</td>\n",
       "      <td>40</td>\n",
       "      <td>46</td>\n",
       "      <td>0.0</td>\n",
       "      <td>8.7</td>\n",
       "      <td>3</td>\n",
       "      <td>71</td>\n",
       "      <td>0.0</td>\n",
       "      <td>31</td>\n",
       "      <td>0</td>\n",
       "      <td>6</td>\n",
       "      <td>6</td>\n",
       "    </tr>\n",
       "    <tr>\n",
       "      <th>19</th>\n",
       "      <td>2011-11-15</td>\n",
       "      <td>7.7</td>\n",
       "      <td>46</td>\n",
       "      <td>36</td>\n",
       "      <td>41</td>\n",
       "      <td>0.0</td>\n",
       "      <td>8.7</td>\n",
       "      <td>2</td>\n",
       "      <td>61</td>\n",
       "      <td>0.0</td>\n",
       "      <td>31</td>\n",
       "      <td>0</td>\n",
       "      <td>9</td>\n",
       "      <td>6</td>\n",
       "    </tr>\n",
       "    <tr>\n",
       "      <th>20</th>\n",
       "      <td>2011-11-16</td>\n",
       "      <td>6.9</td>\n",
       "      <td>44</td>\n",
       "      <td>33</td>\n",
       "      <td>39</td>\n",
       "      <td>0.0</td>\n",
       "      <td>8.5</td>\n",
       "      <td>2</td>\n",
       "      <td>62</td>\n",
       "      <td>0.0</td>\n",
       "      <td>31</td>\n",
       "      <td>13</td>\n",
       "      <td>3</td>\n",
       "      <td>6</td>\n",
       "    </tr>\n",
       "    <tr>\n",
       "      <th>21</th>\n",
       "      <td>2011-11-17</td>\n",
       "      <td>6.3</td>\n",
       "      <td>47</td>\n",
       "      <td>31</td>\n",
       "      <td>42</td>\n",
       "      <td>0.0</td>\n",
       "      <td>5.8</td>\n",
       "      <td>3</td>\n",
       "      <td>80</td>\n",
       "      <td>0.0</td>\n",
       "      <td>31</td>\n",
       "      <td>54</td>\n",
       "      <td>5</td>\n",
       "      <td>6</td>\n",
       "    </tr>\n",
       "    <tr>\n",
       "      <th>22</th>\n",
       "      <td>2011-11-18</td>\n",
       "      <td>2.0</td>\n",
       "      <td>53</td>\n",
       "      <td>44</td>\n",
       "      <td>49</td>\n",
       "      <td>0.0</td>\n",
       "      <td>5.8</td>\n",
       "      <td>2</td>\n",
       "      <td>79</td>\n",
       "      <td>0.0</td>\n",
       "      <td>31</td>\n",
       "      <td>0</td>\n",
       "      <td>4</td>\n",
       "      <td>6</td>\n",
       "    </tr>\n",
       "    <tr>\n",
       "      <th>23</th>\n",
       "      <td>2011-11-19</td>\n",
       "      <td>6.2</td>\n",
       "      <td>51</td>\n",
       "      <td>40</td>\n",
       "      <td>46</td>\n",
       "      <td>0.0</td>\n",
       "      <td>5.8</td>\n",
       "      <td>3</td>\n",
       "      <td>74</td>\n",
       "      <td>0.0</td>\n",
       "      <td>31</td>\n",
       "      <td>6</td>\n",
       "      <td>2</td>\n",
       "      <td>6</td>\n",
       "    </tr>\n",
       "    <tr>\n",
       "      <th>24</th>\n",
       "      <td>2011-11-20</td>\n",
       "      <td>6.0</td>\n",
       "      <td>52</td>\n",
       "      <td>38</td>\n",
       "      <td>45</td>\n",
       "      <td>0.0</td>\n",
       "      <td>5.8</td>\n",
       "      <td>3</td>\n",
       "      <td>74</td>\n",
       "      <td>0.0</td>\n",
       "      <td>31</td>\n",
       "      <td>5</td>\n",
       "      <td>7</td>\n",
       "      <td>6</td>\n",
       "    </tr>\n",
       "    <tr>\n",
       "      <th>25</th>\n",
       "      <td>2011-11-21</td>\n",
       "      <td>6.0</td>\n",
       "      <td>48</td>\n",
       "      <td>37</td>\n",
       "      <td>42</td>\n",
       "      <td>0.0</td>\n",
       "      <td>3.9</td>\n",
       "      <td>3</td>\n",
       "      <td>76</td>\n",
       "      <td>0.0</td>\n",
       "      <td>30</td>\n",
       "      <td>82</td>\n",
       "      <td>3</td>\n",
       "      <td>6</td>\n",
       "    </tr>\n",
       "    <tr>\n",
       "      <th>26</th>\n",
       "      <td>2011-11-22</td>\n",
       "      <td>2.5</td>\n",
       "      <td>51</td>\n",
       "      <td>39</td>\n",
       "      <td>45</td>\n",
       "      <td>0.0</td>\n",
       "      <td>5.8</td>\n",
       "      <td>3</td>\n",
       "      <td>79</td>\n",
       "      <td>0.0</td>\n",
       "      <td>31</td>\n",
       "      <td>25</td>\n",
       "      <td>2</td>\n",
       "      <td>6</td>\n",
       "    </tr>\n",
       "    <tr>\n",
       "      <th>27</th>\n",
       "      <td>2011-11-23</td>\n",
       "      <td>3.3</td>\n",
       "      <td>55</td>\n",
       "      <td>42</td>\n",
       "      <td>50</td>\n",
       "      <td>0.0</td>\n",
       "      <td>5.8</td>\n",
       "      <td>3</td>\n",
       "      <td>89</td>\n",
       "      <td>0.0</td>\n",
       "      <td>31</td>\n",
       "      <td>44</td>\n",
       "      <td>2</td>\n",
       "      <td>5</td>\n",
       "    </tr>\n",
       "    <tr>\n",
       "      <th>28</th>\n",
       "      <td>2011-11-24</td>\n",
       "      <td>1.5</td>\n",
       "      <td>49</td>\n",
       "      <td>42</td>\n",
       "      <td>45</td>\n",
       "      <td>0.0</td>\n",
       "      <td>5.8</td>\n",
       "      <td>2</td>\n",
       "      <td>81</td>\n",
       "      <td>0.0</td>\n",
       "      <td>31</td>\n",
       "      <td>11</td>\n",
       "      <td>6</td>\n",
       "      <td>6</td>\n",
       "    </tr>\n",
       "    <tr>\n",
       "      <th>29</th>\n",
       "      <td>2011-11-25</td>\n",
       "      <td>1.9</td>\n",
       "      <td>47</td>\n",
       "      <td>38</td>\n",
       "      <td>44</td>\n",
       "      <td>0.0</td>\n",
       "      <td>2.1</td>\n",
       "      <td>3</td>\n",
       "      <td>86</td>\n",
       "      <td>0.0</td>\n",
       "      <td>31</td>\n",
       "      <td>81</td>\n",
       "      <td>9</td>\n",
       "      <td>6</td>\n",
       "    </tr>\n",
       "  </tbody>\n",
       "</table>\n",
       "</div>"
      ],
      "text/plain": [
       "         date  generated_kWh  maxtempF  mintempF  avgtempF  totalSnow_cm  \\\n",
       "0  2011-10-27           10.1        59        44        53           0.0   \n",
       "1  2011-10-28           10.0        63        50        57           0.0   \n",
       "2  2011-10-29            9.4        63        50        58           0.0   \n",
       "3  2011-10-30            4.6        60        51        56           0.0   \n",
       "4  2011-10-31            3.8        60        49        55           0.0   \n",
       "5  2011-11-01            8.6        60        49        56           0.0   \n",
       "6  2011-11-02            5.0        58        47        53           0.0   \n",
       "7  2011-11-03            7.0        61        53        58           0.0   \n",
       "8  2011-11-04            1.9        63        54        58           0.0   \n",
       "9  2011-11-05            5.2        64        54        59           0.0   \n",
       "10 2011-11-06            6.1        56        51        54           0.0   \n",
       "11 2011-11-07            1.5        49        43        48           0.0   \n",
       "12 2011-11-08            0.5        54        42        49           0.0   \n",
       "13 2011-11-09            2.3        57        46        52           0.0   \n",
       "14 2011-11-10            6.4        57        42        50           0.0   \n",
       "15 2011-11-11            6.6        50        37        44           0.0   \n",
       "16 2011-11-12            6.4        54        39        48           0.0   \n",
       "17 2011-11-13            4.4        50        40        45           0.0   \n",
       "18 2011-11-14            1.5        52        40        46           0.0   \n",
       "19 2011-11-15            7.7        46        36        41           0.0   \n",
       "20 2011-11-16            6.9        44        33        39           0.0   \n",
       "21 2011-11-17            6.3        47        31        42           0.0   \n",
       "22 2011-11-18            2.0        53        44        49           0.0   \n",
       "23 2011-11-19            6.2        51        40        46           0.0   \n",
       "24 2011-11-20            6.0        52        38        45           0.0   \n",
       "25 2011-11-21            6.0        48        37        42           0.0   \n",
       "26 2011-11-22            2.5        51        39        45           0.0   \n",
       "27 2011-11-23            3.3        55        42        50           0.0   \n",
       "28 2011-11-24            1.5        49        42        45           0.0   \n",
       "29 2011-11-25            1.9        47        38        44           0.0   \n",
       "\n",
       "    sunHour  uvIndex  humidity  precipInches  pressureInches  cloudcover  \\\n",
       "0      10.0        4        60           0.0              30          16   \n",
       "1       9.9        4        76           0.0              31          45   \n",
       "2       6.6        3        79           0.0              31          72   \n",
       "3       8.3        3        76           0.0              31          36   \n",
       "4       9.9        3        69           0.0              31           6   \n",
       "5       9.8        4        76           0.0              30          44   \n",
       "6       9.8        3        77           0.0              30          30   \n",
       "7       8.2        4        86           0.1              30          57   \n",
       "8       9.7        3        65           0.0              30           3   \n",
       "9       9.7        3        69           0.0              30          10   \n",
       "10      6.5        3        81           0.0              30          76   \n",
       "11      6.5        2        85           0.0              31         100   \n",
       "12      9.6        2        76           0.0              30          12   \n",
       "13      9.6        3        79           0.0              31          22   \n",
       "14      9.5        4        68           0.0              31           2   \n",
       "15      9.5        3        70           0.0              31           0   \n",
       "16      8.7        3        74           0.0              31          13   \n",
       "17      8.7        3        71           0.0              31           0   \n",
       "18      8.7        3        71           0.0              31           0   \n",
       "19      8.7        2        61           0.0              31           0   \n",
       "20      8.5        2        62           0.0              31          13   \n",
       "21      5.8        3        80           0.0              31          54   \n",
       "22      5.8        2        79           0.0              31           0   \n",
       "23      5.8        3        74           0.0              31           6   \n",
       "24      5.8        3        74           0.0              31           5   \n",
       "25      3.9        3        76           0.0              30          82   \n",
       "26      5.8        3        79           0.0              31          25   \n",
       "27      5.8        3        89           0.0              31          44   \n",
       "28      5.8        2        81           0.0              31          11   \n",
       "29      2.1        3        86           0.0              31          81   \n",
       "\n",
       "    windspeedMiles  visibilityMiles  \n",
       "0                9                6  \n",
       "1                1                6  \n",
       "2                9                6  \n",
       "3                5                6  \n",
       "4                6                6  \n",
       "5                7                6  \n",
       "6                7                6  \n",
       "7               11                5  \n",
       "8               11                6  \n",
       "9                1                6  \n",
       "10               8                6  \n",
       "11               8                6  \n",
       "12               4                6  \n",
       "13               5                6  \n",
       "14               7                6  \n",
       "15               9                6  \n",
       "16               3                6  \n",
       "17               8                6  \n",
       "18               6                6  \n",
       "19               9                6  \n",
       "20               3                6  \n",
       "21               5                6  \n",
       "22               4                6  \n",
       "23               2                6  \n",
       "24               7                6  \n",
       "25               3                6  \n",
       "26               2                6  \n",
       "27               2                5  \n",
       "28               6                6  \n",
       "29               9                6  "
      ]
     },
     "execution_count": 16,
     "metadata": {},
     "output_type": "execute_result"
    }
   ],
   "source": [
    "df_all = pd.merge(df, weather, how='outer', on='date')\n",
    "df_all.head(30)"
   ]
  },
  {
   "cell_type": "markdown",
<<<<<<< HEAD
   "id": "e8a3e653",
=======
   "id": "243e6606",
>>>>>>> b31230ba1d7921c85dbb6ae2aa32f9536f4192b4
   "metadata": {},
   "source": [
    "### EDA on the Combined Dataset\n",
    "\n",
    "Now that the data has been merged, we can look into some of the weather factors that may influence power output as well as the seasonality of our data. To check for seasonality and other trends, import the `stats` library:"
   ]
  },
  {
   "cell_type": "code",
<<<<<<< HEAD
   "execution_count": 20,
   "id": "267393f3",
=======
   "execution_count": 18,
   "id": "cedbb1e6",
>>>>>>> b31230ba1d7921c85dbb6ae2aa32f9536f4192b4
   "metadata": {},
   "outputs": [],
   "source": [
    "# Import various statsmodels tools\n",
    "from statsmodels.tsa.seasonal import seasonal_decompose\n",
    "from statsmodels.graphics.tsaplots import plot_acf\n",
    "from statsmodels.tsa.stattools import acf\n",
    "from statsmodels.graphics.tsaplots import plot_pacf\n",
    "from statsmodels.tsa.stattools import pacf"
   ]
  },
  {
   "cell_type": "code",
<<<<<<< HEAD
   "execution_count": 21,
   "id": "1e7c9cec",
=======
   "execution_count": 19,
   "id": "5c014344",
>>>>>>> b31230ba1d7921c85dbb6ae2aa32f9536f4192b4
   "metadata": {},
   "outputs": [],
   "source": [
    "# Set the index to the date\n",
    "df_all.set_index('date', inplace=True)"
   ]
  },
  {
   "cell_type": "code",
<<<<<<< HEAD
   "execution_count": 22,
   "id": "09526ce6",
=======
   "execution_count": 20,
   "id": "8d2e251c",
>>>>>>> b31230ba1d7921c85dbb6ae2aa32f9536f4192b4
   "metadata": {},
   "outputs": [
    {
     "data": {
      "image/png": "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\n",
      "text/plain": [
       "<Figure size 432x288 with 4 Axes>"
      ]
     },
     "metadata": {
      "needs_background": "light"
     },
     "output_type": "display_data"
    }
   ],
   "source": [
    "# Create a seasonal decomp chart\n",
    "decomp = seasonal_decompose(df_all['generated_kWh'], period=365)\n",
    "\n",
    "decomp.plot();"
   ]
  },
  {
   "cell_type": "markdown",
<<<<<<< HEAD
   "id": "364ebd41",
=======
   "id": "6ba83663",
>>>>>>> b31230ba1d7921c85dbb6ae2aa32f9536f4192b4
   "metadata": {},
   "source": [
    "There doesn't seem to be an especially strong trend in the data. However, there is strong seasonality."
   ]
  },
  {
   "cell_type": "code",
<<<<<<< HEAD
   "execution_count": 23,
   "id": "837ddde2",
=======
   "execution_count": 21,
   "id": "6594fc98",
>>>>>>> b31230ba1d7921c85dbb6ae2aa32f9536f4192b4
   "metadata": {},
   "outputs": [
    {
     "data": {
      "image/png": "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\n",
      "text/plain": [
       "<Figure size 864x576 with 1 Axes>"
      ]
     },
     "metadata": {
      "needs_background": "light"
     },
     "output_type": "display_data"
    }
   ],
   "source": [
    "# Create an autocorrelation chart\n",
    "fig, ax = plt.subplots(figsize=(12, 8))\n",
    "plot_acf(df_all['generated_kWh'], lags=365, ax=ax, title='Autocorrelation for Power Generation')\n",
    "plt.xlabel('Lags')\n",
    "plt.ylabel('Correlation')\n",
    "plt.savefig('../assets/autocorr.jpeg')\n",
    "plt.show()"
   ]
  },
  {
   "cell_type": "markdown",
<<<<<<< HEAD
   "id": "9e495e87",
=======
   "id": "7da2198b",
>>>>>>> b31230ba1d7921c85dbb6ae2aa32f9536f4192b4
   "metadata": {},
   "source": [
    "We figured out how to change the figure size via [this stackoverflow thread.](https://stackoverflow.com/questions/28517276/changing-fig-size-with-statsmodel)"
   ]
  },
  {
   "cell_type": "code",
<<<<<<< HEAD
   "execution_count": 24,
   "id": "8fd6f10f",
=======
   "execution_count": 22,
   "id": "6272e477",
>>>>>>> b31230ba1d7921c85dbb6ae2aa32f9536f4192b4
   "metadata": {},
   "outputs": [
    {
     "data": {
      "image/png": "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\n",
      "text/plain": [
       "<Figure size 864x576 with 1 Axes>"
      ]
     },
     "metadata": {
      "needs_background": "light"
     },
     "output_type": "display_data"
    }
   ],
   "source": [
    "# And now for the partial autocorrelation plot\n",
    "fig, ax = plt.subplots(figsize=(12, 8))\n",
    "plot_pacf(df_all['generated_kWh'], lags=365, ax=ax, title='Partial Autocorrelation for Power Generation')\n",
    "plt.xlabel('Lags')\n",
    "plt.ylabel('Correlation')\n",
    "plt.savefig('../assets/part_autocorr.jpeg')\n",
    "plt.show()"
   ]
  },
  {
   "cell_type": "markdown",
<<<<<<< HEAD
   "id": "b6083b27",
=======
   "id": "959d6c81",
>>>>>>> b31230ba1d7921c85dbb6ae2aa32f9536f4192b4
   "metadata": {},
   "source": [
    "Clearly, there is seasonality to our data. This has been apparent since we plotted generation over time earlier, but these two charts confirm it. Another thing that the autocorrelation chart pointed out is that our model would likely benefit from a few lag terms, and the partial autocorrelation chart is in agreement here, although most of the correlations beyond the first 25 or so lag terms are not significant according to the latter chart.\n",
    "\n",
    "Let's use `statsmodels` again to look at the exact correlation values for the first 25 lag terms:"
   ]
  },
  {
   "cell_type": "code",
<<<<<<< HEAD
   "execution_count": 25,
   "id": "c6fcbc96",
=======
   "execution_count": 23,
   "id": "94c1158e",
>>>>>>> b31230ba1d7921c85dbb6ae2aa32f9536f4192b4
   "metadata": {},
   "outputs": [
    {
     "data": {
      "text/plain": [
       "array([1.        , 0.76662868, 0.3026756 , 0.24196862, 0.14646006,\n",
       "       0.1301051 , 0.08736757, 0.09635148, 0.07612245, 0.06289937])"
      ]
     },
     "execution_count": 23,
     "metadata": {},
     "output_type": "execute_result"
    }
   ],
   "source": [
    "# Utilize pacf\n",
    "pacf(df_all['generated_kWh'], nlags=25)[:10]"
   ]
  },
  {
   "cell_type": "markdown",
<<<<<<< HEAD
   "id": "7cc8e61f",
=======
   "id": "15ff6299",
>>>>>>> b31230ba1d7921c85dbb6ae2aa32f9536f4192b4
   "metadata": {},
   "source": [
    "This indicates that the first two lag terms would be useful as features. To add these to the dataset:"
   ]
  },
  {
   "cell_type": "code",
<<<<<<< HEAD
   "execution_count": 26,
   "id": "acf2b2b4",
=======
   "execution_count": 24,
   "id": "b86ea76c",
>>>>>>> b31230ba1d7921c85dbb6ae2aa32f9536f4192b4
   "metadata": {},
   "outputs": [],
   "source": [
    "df_all['lag_1'] = df_all['generated_kWh'].shift(1)\n",
    "df_all['lag_2'] = df_all['generated_kWh'].shift(2)"
   ]
  },
  {
   "cell_type": "code",
<<<<<<< HEAD
   "execution_count": 27,
   "id": "85657a4c",
=======
   "execution_count": 25,
   "id": "9b04aed1",
>>>>>>> b31230ba1d7921c85dbb6ae2aa32f9536f4192b4
   "metadata": {},
   "outputs": [],
   "source": [
    "# Drop the nulls\n",
    "df_all.dropna(inplace=True)"
   ]
  },
  {
   "cell_type": "markdown",
<<<<<<< HEAD
   "id": "d56e4319",
=======
   "id": "b5db230e",
>>>>>>> b31230ba1d7921c85dbb6ae2aa32f9536f4192b4
   "metadata": {},
   "source": [
    "Now the data can be further explored to see what weather conditions effect power output the most:"
   ]
  },
  {
   "cell_type": "code",
<<<<<<< HEAD
   "execution_count": 28,
   "id": "9bc27008",
=======
   "execution_count": 26,
   "id": "7e24fe50",
>>>>>>> b31230ba1d7921c85dbb6ae2aa32f9536f4192b4
   "metadata": {},
   "outputs": [
    {
     "data": {
      "text/html": [
       "<div>\n",
       "<style scoped>\n",
       "    .dataframe tbody tr th:only-of-type {\n",
       "        vertical-align: middle;\n",
       "    }\n",
       "\n",
       "    .dataframe tbody tr th {\n",
       "        vertical-align: top;\n",
       "    }\n",
       "\n",
       "    .dataframe thead th {\n",
       "        text-align: right;\n",
       "    }\n",
       "</style>\n",
       "<table border=\"1\" class=\"dataframe\">\n",
       "  <thead>\n",
       "    <tr style=\"text-align: right;\">\n",
       "      <th></th>\n",
       "      <th>generated_kWh</th>\n",
       "      <th>maxtempF</th>\n",
       "      <th>mintempF</th>\n",
       "      <th>avgtempF</th>\n",
       "      <th>totalSnow_cm</th>\n",
       "      <th>sunHour</th>\n",
       "      <th>uvIndex</th>\n",
       "      <th>humidity</th>\n",
       "      <th>precipInches</th>\n",
       "      <th>pressureInches</th>\n",
       "      <th>cloudcover</th>\n",
       "      <th>windspeedMiles</th>\n",
       "      <th>visibilityMiles</th>\n",
       "      <th>lag_1</th>\n",
       "      <th>lag_2</th>\n",
       "    </tr>\n",
       "    <tr>\n",
       "      <th>date</th>\n",
       "      <th></th>\n",
       "      <th></th>\n",
       "      <th></th>\n",
       "      <th></th>\n",
       "      <th></th>\n",
       "      <th></th>\n",
       "      <th></th>\n",
       "      <th></th>\n",
       "      <th></th>\n",
       "      <th></th>\n",
       "      <th></th>\n",
       "      <th></th>\n",
       "      <th></th>\n",
       "      <th></th>\n",
       "      <th></th>\n",
       "    </tr>\n",
       "  </thead>\n",
       "  <tbody>\n",
       "    <tr>\n",
       "      <th>2016-07-12</th>\n",
       "      <td>34.0</td>\n",
       "      <td>70</td>\n",
       "      <td>55</td>\n",
       "      <td>66</td>\n",
       "      <td>0.0</td>\n",
       "      <td>16.1</td>\n",
       "      <td>5</td>\n",
       "      <td>60</td>\n",
       "      <td>0.0</td>\n",
       "      <td>30</td>\n",
       "      <td>43</td>\n",
       "      <td>10</td>\n",
       "      <td>5</td>\n",
       "      <td>22.0</td>\n",
       "      <td>20.0</td>\n",
       "    </tr>\n",
       "    <tr>\n",
       "      <th>2015-06-14</th>\n",
       "      <td>34.0</td>\n",
       "      <td>72</td>\n",
       "      <td>52</td>\n",
       "      <td>67</td>\n",
       "      <td>0.0</td>\n",
       "      <td>16.3</td>\n",
       "      <td>5</td>\n",
       "      <td>47</td>\n",
       "      <td>0.0</td>\n",
       "      <td>30</td>\n",
       "      <td>16</td>\n",
       "      <td>4</td>\n",
       "      <td>6</td>\n",
       "      <td>20.0</td>\n",
       "      <td>30.0</td>\n",
       "    </tr>\n",
       "    <tr>\n",
       "      <th>2015-06-07</th>\n",
       "      <td>33.0</td>\n",
       "      <td>67</td>\n",
       "      <td>49</td>\n",
       "      <td>63</td>\n",
       "      <td>0.0</td>\n",
       "      <td>16.3</td>\n",
       "      <td>5</td>\n",
       "      <td>43</td>\n",
       "      <td>0.0</td>\n",
       "      <td>31</td>\n",
       "      <td>3</td>\n",
       "      <td>9</td>\n",
       "      <td>6</td>\n",
       "      <td>17.0</td>\n",
       "      <td>31.0</td>\n",
       "    </tr>\n",
       "    <tr>\n",
       "      <th>2015-06-07</th>\n",
       "      <td>33.0</td>\n",
       "      <td>67</td>\n",
       "      <td>49</td>\n",
       "      <td>63</td>\n",
       "      <td>0.0</td>\n",
       "      <td>16.3</td>\n",
       "      <td>5</td>\n",
       "      <td>43</td>\n",
       "      <td>0.0</td>\n",
       "      <td>31</td>\n",
       "      <td>3</td>\n",
       "      <td>9</td>\n",
       "      <td>6</td>\n",
       "      <td>33.0</td>\n",
       "      <td>17.0</td>\n",
       "    </tr>\n",
       "    <tr>\n",
       "      <th>2016-06-09</th>\n",
       "      <td>33.0</td>\n",
       "      <td>67</td>\n",
       "      <td>51</td>\n",
       "      <td>62</td>\n",
       "      <td>0.0</td>\n",
       "      <td>16.3</td>\n",
       "      <td>4</td>\n",
       "      <td>62</td>\n",
       "      <td>0.0</td>\n",
       "      <td>31</td>\n",
       "      <td>6</td>\n",
       "      <td>9</td>\n",
       "      <td>6</td>\n",
       "      <td>21.0</td>\n",
       "      <td>21.0</td>\n",
       "    </tr>\n",
       "    <tr>\n",
       "      <th>2014-06-12</th>\n",
       "      <td>32.0</td>\n",
       "      <td>74</td>\n",
       "      <td>54</td>\n",
       "      <td>69</td>\n",
       "      <td>0.0</td>\n",
       "      <td>16.3</td>\n",
       "      <td>6</td>\n",
       "      <td>53</td>\n",
       "      <td>0.0</td>\n",
       "      <td>31</td>\n",
       "      <td>4</td>\n",
       "      <td>4</td>\n",
       "      <td>6</td>\n",
       "      <td>12.0</td>\n",
       "      <td>14.0</td>\n",
       "    </tr>\n",
       "    <tr>\n",
       "      <th>2014-06-12</th>\n",
       "      <td>32.0</td>\n",
       "      <td>74</td>\n",
       "      <td>54</td>\n",
       "      <td>69</td>\n",
       "      <td>0.0</td>\n",
       "      <td>16.3</td>\n",
       "      <td>6</td>\n",
       "      <td>53</td>\n",
       "      <td>0.0</td>\n",
       "      <td>31</td>\n",
       "      <td>4</td>\n",
       "      <td>4</td>\n",
       "      <td>6</td>\n",
       "      <td>32.0</td>\n",
       "      <td>12.0</td>\n",
       "    </tr>\n",
       "    <tr>\n",
       "      <th>2015-07-10</th>\n",
       "      <td>32.0</td>\n",
       "      <td>75</td>\n",
       "      <td>50</td>\n",
       "      <td>69</td>\n",
       "      <td>0.0</td>\n",
       "      <td>16.2</td>\n",
       "      <td>6</td>\n",
       "      <td>37</td>\n",
       "      <td>0.0</td>\n",
       "      <td>31</td>\n",
       "      <td>5</td>\n",
       "      <td>4</td>\n",
       "      <td>6</td>\n",
       "      <td>13.0</td>\n",
       "      <td>12.0</td>\n",
       "    </tr>\n",
       "    <tr>\n",
       "      <th>2015-06-08</th>\n",
       "      <td>31.0</td>\n",
       "      <td>64</td>\n",
       "      <td>45</td>\n",
       "      <td>59</td>\n",
       "      <td>0.0</td>\n",
       "      <td>16.3</td>\n",
       "      <td>5</td>\n",
       "      <td>49</td>\n",
       "      <td>0.0</td>\n",
       "      <td>31</td>\n",
       "      <td>15</td>\n",
       "      <td>13</td>\n",
       "      <td>6</td>\n",
       "      <td>33.0</td>\n",
       "      <td>33.0</td>\n",
       "    </tr>\n",
       "    <tr>\n",
       "      <th>2016-06-10</th>\n",
       "      <td>31.0</td>\n",
       "      <td>56</td>\n",
       "      <td>48</td>\n",
       "      <td>56</td>\n",
       "      <td>0.0</td>\n",
       "      <td>16.3</td>\n",
       "      <td>4</td>\n",
       "      <td>77</td>\n",
       "      <td>0.0</td>\n",
       "      <td>30</td>\n",
       "      <td>24</td>\n",
       "      <td>3</td>\n",
       "      <td>6</td>\n",
       "      <td>33.0</td>\n",
       "      <td>21.0</td>\n",
       "    </tr>\n",
       "    <tr>\n",
       "      <th>2019-05-25</th>\n",
       "      <td>31.0</td>\n",
       "      <td>66</td>\n",
       "      <td>50</td>\n",
       "      <td>61</td>\n",
       "      <td>0.0</td>\n",
       "      <td>15.6</td>\n",
       "      <td>5</td>\n",
       "      <td>61</td>\n",
       "      <td>0.0</td>\n",
       "      <td>31</td>\n",
       "      <td>34</td>\n",
       "      <td>4</td>\n",
       "      <td>5</td>\n",
       "      <td>23.0</td>\n",
       "      <td>24.0</td>\n",
       "    </tr>\n",
       "    <tr>\n",
       "      <th>2018-07-06</th>\n",
       "      <td>31.0</td>\n",
       "      <td>79</td>\n",
       "      <td>59</td>\n",
       "      <td>74</td>\n",
       "      <td>0.0</td>\n",
       "      <td>16.2</td>\n",
       "      <td>6</td>\n",
       "      <td>46</td>\n",
       "      <td>0.0</td>\n",
       "      <td>31</td>\n",
       "      <td>55</td>\n",
       "      <td>5</td>\n",
       "      <td>6</td>\n",
       "      <td>26.0</td>\n",
       "      <td>20.0</td>\n",
       "    </tr>\n",
       "    <tr>\n",
       "      <th>2018-06-21</th>\n",
       "      <td>31.0</td>\n",
       "      <td>62</td>\n",
       "      <td>51</td>\n",
       "      <td>60</td>\n",
       "      <td>0.0</td>\n",
       "      <td>16.6</td>\n",
       "      <td>5</td>\n",
       "      <td>53</td>\n",
       "      <td>0.0</td>\n",
       "      <td>31</td>\n",
       "      <td>0</td>\n",
       "      <td>18</td>\n",
       "      <td>6</td>\n",
       "      <td>31.0</td>\n",
       "      <td>7.0</td>\n",
       "    </tr>\n",
       "    <tr>\n",
       "      <th>2018-06-21</th>\n",
       "      <td>31.0</td>\n",
       "      <td>62</td>\n",
       "      <td>51</td>\n",
       "      <td>60</td>\n",
       "      <td>0.0</td>\n",
       "      <td>16.6</td>\n",
       "      <td>5</td>\n",
       "      <td>53</td>\n",
       "      <td>0.0</td>\n",
       "      <td>31</td>\n",
       "      <td>0</td>\n",
       "      <td>18</td>\n",
       "      <td>6</td>\n",
       "      <td>7.0</td>\n",
       "      <td>13.0</td>\n",
       "    </tr>\n",
       "    <tr>\n",
       "      <th>2017-06-11</th>\n",
       "      <td>31.0</td>\n",
       "      <td>80</td>\n",
       "      <td>61</td>\n",
       "      <td>74</td>\n",
       "      <td>0.0</td>\n",
       "      <td>16.3</td>\n",
       "      <td>6</td>\n",
       "      <td>57</td>\n",
       "      <td>0.0</td>\n",
       "      <td>30</td>\n",
       "      <td>18</td>\n",
       "      <td>9</td>\n",
       "      <td>6</td>\n",
       "      <td>25.0</td>\n",
       "      <td>23.0</td>\n",
       "    </tr>\n",
       "    <tr>\n",
       "      <th>2020-05-06</th>\n",
       "      <td>31.0</td>\n",
       "      <td>67</td>\n",
       "      <td>46</td>\n",
       "      <td>59</td>\n",
       "      <td>0.0</td>\n",
       "      <td>14.5</td>\n",
       "      <td>5</td>\n",
       "      <td>36</td>\n",
       "      <td>0.0</td>\n",
       "      <td>31</td>\n",
       "      <td>0</td>\n",
       "      <td>8</td>\n",
       "      <td>6</td>\n",
       "      <td>22.0</td>\n",
       "      <td>14.0</td>\n",
       "    </tr>\n",
       "    <tr>\n",
       "      <th>2014-05-17</th>\n",
       "      <td>31.0</td>\n",
       "      <td>69</td>\n",
       "      <td>47</td>\n",
       "      <td>64</td>\n",
       "      <td>0.0</td>\n",
       "      <td>15.8</td>\n",
       "      <td>5</td>\n",
       "      <td>56</td>\n",
       "      <td>0.0</td>\n",
       "      <td>31</td>\n",
       "      <td>9</td>\n",
       "      <td>3</td>\n",
       "      <td>6</td>\n",
       "      <td>27.0</td>\n",
       "      <td>23.0</td>\n",
       "    </tr>\n",
       "    <tr>\n",
       "      <th>2015-06-05</th>\n",
       "      <td>31.0</td>\n",
       "      <td>89</td>\n",
       "      <td>59</td>\n",
       "      <td>79</td>\n",
       "      <td>0.0</td>\n",
       "      <td>16.2</td>\n",
       "      <td>7</td>\n",
       "      <td>40</td>\n",
       "      <td>0.0</td>\n",
       "      <td>30</td>\n",
       "      <td>9</td>\n",
       "      <td>10</td>\n",
       "      <td>6</td>\n",
       "      <td>17.0</td>\n",
       "      <td>7.0</td>\n",
       "    </tr>\n",
       "    <tr>\n",
       "      <th>2015-05-27</th>\n",
       "      <td>31.0</td>\n",
       "      <td>63</td>\n",
       "      <td>43</td>\n",
       "      <td>59</td>\n",
       "      <td>0.0</td>\n",
       "      <td>15.6</td>\n",
       "      <td>5</td>\n",
       "      <td>56</td>\n",
       "      <td>0.0</td>\n",
       "      <td>31</td>\n",
       "      <td>90</td>\n",
       "      <td>10</td>\n",
       "      <td>6</td>\n",
       "      <td>24.0</td>\n",
       "      <td>28.0</td>\n",
       "    </tr>\n",
       "    <tr>\n",
       "      <th>2015-05-16</th>\n",
       "      <td>31.0</td>\n",
       "      <td>56</td>\n",
       "      <td>42</td>\n",
       "      <td>53</td>\n",
       "      <td>0.0</td>\n",
       "      <td>12.8</td>\n",
       "      <td>4</td>\n",
       "      <td>93</td>\n",
       "      <td>0.0</td>\n",
       "      <td>31</td>\n",
       "      <td>100</td>\n",
       "      <td>10</td>\n",
       "      <td>5</td>\n",
       "      <td>12.0</td>\n",
       "      <td>29.0</td>\n",
       "    </tr>\n",
       "    <tr>\n",
       "      <th>2014-07-04</th>\n",
       "      <td>31.0</td>\n",
       "      <td>83</td>\n",
       "      <td>58</td>\n",
       "      <td>77</td>\n",
       "      <td>0.0</td>\n",
       "      <td>16.6</td>\n",
       "      <td>6</td>\n",
       "      <td>43</td>\n",
       "      <td>0.0</td>\n",
       "      <td>30</td>\n",
       "      <td>48</td>\n",
       "      <td>10</td>\n",
       "      <td>6</td>\n",
       "      <td>26.0</td>\n",
       "      <td>28.0</td>\n",
       "    </tr>\n",
       "    <tr>\n",
       "      <th>2014-06-07</th>\n",
       "      <td>31.0</td>\n",
       "      <td>84</td>\n",
       "      <td>59</td>\n",
       "      <td>77</td>\n",
       "      <td>0.0</td>\n",
       "      <td>16.3</td>\n",
       "      <td>6</td>\n",
       "      <td>53</td>\n",
       "      <td>0.0</td>\n",
       "      <td>30</td>\n",
       "      <td>42</td>\n",
       "      <td>6</td>\n",
       "      <td>6</td>\n",
       "      <td>25.0</td>\n",
       "      <td>12.0</td>\n",
       "    </tr>\n",
       "    <tr>\n",
       "      <th>2012-05-17</th>\n",
       "      <td>30.5</td>\n",
       "      <td>58</td>\n",
       "      <td>39</td>\n",
       "      <td>54</td>\n",
       "      <td>0.0</td>\n",
       "      <td>15.8</td>\n",
       "      <td>4</td>\n",
       "      <td>56</td>\n",
       "      <td>0.0</td>\n",
       "      <td>31</td>\n",
       "      <td>49</td>\n",
       "      <td>6</td>\n",
       "      <td>6</td>\n",
       "      <td>11.5</td>\n",
       "      <td>28.7</td>\n",
       "    </tr>\n",
       "  </tbody>\n",
       "</table>\n",
       "</div>"
      ],
      "text/plain": [
       "            generated_kWh  maxtempF  mintempF  avgtempF  totalSnow_cm  \\\n",
       "date                                                                    \n",
       "2016-07-12           34.0        70        55        66           0.0   \n",
       "2015-06-14           34.0        72        52        67           0.0   \n",
       "2015-06-07           33.0        67        49        63           0.0   \n",
       "2015-06-07           33.0        67        49        63           0.0   \n",
       "2016-06-09           33.0        67        51        62           0.0   \n",
       "2014-06-12           32.0        74        54        69           0.0   \n",
       "2014-06-12           32.0        74        54        69           0.0   \n",
       "2015-07-10           32.0        75        50        69           0.0   \n",
       "2015-06-08           31.0        64        45        59           0.0   \n",
       "2016-06-10           31.0        56        48        56           0.0   \n",
       "2019-05-25           31.0        66        50        61           0.0   \n",
       "2018-07-06           31.0        79        59        74           0.0   \n",
       "2018-06-21           31.0        62        51        60           0.0   \n",
       "2018-06-21           31.0        62        51        60           0.0   \n",
       "2017-06-11           31.0        80        61        74           0.0   \n",
       "2020-05-06           31.0        67        46        59           0.0   \n",
       "2014-05-17           31.0        69        47        64           0.0   \n",
       "2015-06-05           31.0        89        59        79           0.0   \n",
       "2015-05-27           31.0        63        43        59           0.0   \n",
       "2015-05-16           31.0        56        42        53           0.0   \n",
       "2014-07-04           31.0        83        58        77           0.0   \n",
       "2014-06-07           31.0        84        59        77           0.0   \n",
       "2012-05-17           30.5        58        39        54           0.0   \n",
       "\n",
       "            sunHour  uvIndex  humidity  precipInches  pressureInches  \\\n",
       "date                                                                   \n",
       "2016-07-12     16.1        5        60           0.0              30   \n",
       "2015-06-14     16.3        5        47           0.0              30   \n",
       "2015-06-07     16.3        5        43           0.0              31   \n",
       "2015-06-07     16.3        5        43           0.0              31   \n",
       "2016-06-09     16.3        4        62           0.0              31   \n",
       "2014-06-12     16.3        6        53           0.0              31   \n",
       "2014-06-12     16.3        6        53           0.0              31   \n",
       "2015-07-10     16.2        6        37           0.0              31   \n",
       "2015-06-08     16.3        5        49           0.0              31   \n",
       "2016-06-10     16.3        4        77           0.0              30   \n",
       "2019-05-25     15.6        5        61           0.0              31   \n",
       "2018-07-06     16.2        6        46           0.0              31   \n",
       "2018-06-21     16.6        5        53           0.0              31   \n",
       "2018-06-21     16.6        5        53           0.0              31   \n",
       "2017-06-11     16.3        6        57           0.0              30   \n",
       "2020-05-06     14.5        5        36           0.0              31   \n",
       "2014-05-17     15.8        5        56           0.0              31   \n",
       "2015-06-05     16.2        7        40           0.0              30   \n",
       "2015-05-27     15.6        5        56           0.0              31   \n",
       "2015-05-16     12.8        4        93           0.0              31   \n",
       "2014-07-04     16.6        6        43           0.0              30   \n",
       "2014-06-07     16.3        6        53           0.0              30   \n",
       "2012-05-17     15.8        4        56           0.0              31   \n",
       "\n",
       "            cloudcover  windspeedMiles  visibilityMiles  lag_1  lag_2  \n",
       "date                                                                   \n",
       "2016-07-12          43              10                5   22.0   20.0  \n",
       "2015-06-14          16               4                6   20.0   30.0  \n",
       "2015-06-07           3               9                6   17.0   31.0  \n",
       "2015-06-07           3               9                6   33.0   17.0  \n",
       "2016-06-09           6               9                6   21.0   21.0  \n",
       "2014-06-12           4               4                6   12.0   14.0  \n",
       "2014-06-12           4               4                6   32.0   12.0  \n",
       "2015-07-10           5               4                6   13.0   12.0  \n",
       "2015-06-08          15              13                6   33.0   33.0  \n",
       "2016-06-10          24               3                6   33.0   21.0  \n",
       "2019-05-25          34               4                5   23.0   24.0  \n",
       "2018-07-06          55               5                6   26.0   20.0  \n",
       "2018-06-21           0              18                6   31.0    7.0  \n",
       "2018-06-21           0              18                6    7.0   13.0  \n",
       "2017-06-11          18               9                6   25.0   23.0  \n",
       "2020-05-06           0               8                6   22.0   14.0  \n",
       "2014-05-17           9               3                6   27.0   23.0  \n",
       "2015-06-05           9              10                6   17.0    7.0  \n",
       "2015-05-27          90              10                6   24.0   28.0  \n",
       "2015-05-16         100              10                5   12.0   29.0  \n",
       "2014-07-04          48              10                6   26.0   28.0  \n",
       "2014-06-07          42               6                6   25.0   12.0  \n",
       "2012-05-17          49               6                6   11.5   28.7  "
      ]
     },
     "execution_count": 26,
     "metadata": {},
     "output_type": "execute_result"
    }
   ],
   "source": [
    "df_all.loc[df_all['generated_kWh'] > 30, :].sort_values('generated_kWh', ascending=False)"
   ]
  },
  {
   "cell_type": "markdown",
<<<<<<< HEAD
   "id": "4b3b7b2d",
=======
   "id": "7e2ffa8e",
>>>>>>> b31230ba1d7921c85dbb6ae2aa32f9536f4192b4
   "metadata": {},
   "source": [
    "Most of these entries come from spring and summer, which makes sense as this is when the days are at their longest. There are however several entries from different points in the year, such as the one from December 6th, 2014. The most consistent overall features here are the amounts of snow/precipitation and the barometric pressure.\n",
    "\n",
    "\n",
    "Now to look at the low end of `generated_KWh`:"
   ]
  },
  {
   "cell_type": "code",
<<<<<<< HEAD
   "execution_count": 29,
   "id": "c1750a81",
=======
   "execution_count": 27,
   "id": "281eccab",
>>>>>>> b31230ba1d7921c85dbb6ae2aa32f9536f4192b4
   "metadata": {},
   "outputs": [
    {
     "data": {
      "text/html": [
       "<div>\n",
       "<style scoped>\n",
       "    .dataframe tbody tr th:only-of-type {\n",
       "        vertical-align: middle;\n",
       "    }\n",
       "\n",
       "    .dataframe tbody tr th {\n",
       "        vertical-align: top;\n",
       "    }\n",
       "\n",
       "    .dataframe thead th {\n",
       "        text-align: right;\n",
       "    }\n",
       "</style>\n",
       "<table border=\"1\" class=\"dataframe\">\n",
       "  <thead>\n",
       "    <tr style=\"text-align: right;\">\n",
       "      <th></th>\n",
       "      <th>generated_kWh</th>\n",
       "      <th>maxtempF</th>\n",
       "      <th>mintempF</th>\n",
       "      <th>avgtempF</th>\n",
       "      <th>totalSnow_cm</th>\n",
       "      <th>sunHour</th>\n",
       "      <th>uvIndex</th>\n",
       "      <th>humidity</th>\n",
       "      <th>precipInches</th>\n",
       "      <th>pressureInches</th>\n",
       "      <th>cloudcover</th>\n",
       "      <th>windspeedMiles</th>\n",
       "      <th>visibilityMiles</th>\n",
       "      <th>lag_1</th>\n",
       "      <th>lag_2</th>\n",
       "    </tr>\n",
       "    <tr>\n",
       "      <th>date</th>\n",
       "      <th></th>\n",
       "      <th></th>\n",
       "      <th></th>\n",
       "      <th></th>\n",
       "      <th></th>\n",
       "      <th></th>\n",
       "      <th></th>\n",
       "      <th></th>\n",
       "      <th></th>\n",
       "      <th></th>\n",
       "      <th></th>\n",
       "      <th></th>\n",
       "      <th></th>\n",
       "      <th></th>\n",
       "      <th></th>\n",
       "    </tr>\n",
       "  </thead>\n",
       "  <tbody>\n",
       "    <tr>\n",
       "      <th>2013-01-16</th>\n",
       "      <td>0.0</td>\n",
       "      <td>29</td>\n",
       "      <td>20</td>\n",
       "      <td>25</td>\n",
       "      <td>0.2</td>\n",
       "      <td>8.7</td>\n",
       "      <td>1</td>\n",
       "      <td>82</td>\n",
       "      <td>0.0</td>\n",
       "      <td>30</td>\n",
       "      <td>6</td>\n",
       "      <td>6</td>\n",
       "      <td>6</td>\n",
       "      <td>2.3</td>\n",
       "      <td>5.2</td>\n",
       "    </tr>\n",
       "    <tr>\n",
       "      <th>2017-11-28</th>\n",
       "      <td>0.0</td>\n",
       "      <td>45</td>\n",
       "      <td>39</td>\n",
       "      <td>42</td>\n",
       "      <td>0.0</td>\n",
       "      <td>5.8</td>\n",
       "      <td>2</td>\n",
       "      <td>72</td>\n",
       "      <td>0.0</td>\n",
       "      <td>30</td>\n",
       "      <td>58</td>\n",
       "      <td>11</td>\n",
       "      <td>6</td>\n",
       "      <td>7.0</td>\n",
       "      <td>3.0</td>\n",
       "    </tr>\n",
       "    <tr>\n",
       "      <th>2017-12-08</th>\n",
       "      <td>0.0</td>\n",
       "      <td>41</td>\n",
       "      <td>35</td>\n",
       "      <td>38</td>\n",
       "      <td>0.9</td>\n",
       "      <td>5.8</td>\n",
       "      <td>1</td>\n",
       "      <td>61</td>\n",
       "      <td>0.0</td>\n",
       "      <td>30</td>\n",
       "      <td>31</td>\n",
       "      <td>16</td>\n",
       "      <td>6</td>\n",
       "      <td>1.0</td>\n",
       "      <td>1.0</td>\n",
       "    </tr>\n",
       "    <tr>\n",
       "      <th>2017-12-11</th>\n",
       "      <td>0.0</td>\n",
       "      <td>34</td>\n",
       "      <td>33</td>\n",
       "      <td>34</td>\n",
       "      <td>7.4</td>\n",
       "      <td>2.0</td>\n",
       "      <td>2</td>\n",
       "      <td>93</td>\n",
       "      <td>0.3</td>\n",
       "      <td>29</td>\n",
       "      <td>100</td>\n",
       "      <td>20</td>\n",
       "      <td>1</td>\n",
       "      <td>2.0</td>\n",
       "      <td>3.0</td>\n",
       "    </tr>\n",
       "    <tr>\n",
       "      <th>2017-12-12</th>\n",
       "      <td>0.0</td>\n",
       "      <td>40</td>\n",
       "      <td>34</td>\n",
       "      <td>37</td>\n",
       "      <td>1.3</td>\n",
       "      <td>3.9</td>\n",
       "      <td>1</td>\n",
       "      <td>78</td>\n",
       "      <td>0.0</td>\n",
       "      <td>30</td>\n",
       "      <td>92</td>\n",
       "      <td>11</td>\n",
       "      <td>5</td>\n",
       "      <td>0.0</td>\n",
       "      <td>2.0</td>\n",
       "    </tr>\n",
       "  </tbody>\n",
       "</table>\n",
       "</div>"
      ],
      "text/plain": [
       "            generated_kWh  maxtempF  mintempF  avgtempF  totalSnow_cm  \\\n",
       "date                                                                    \n",
       "2013-01-16            0.0        29        20        25           0.2   \n",
       "2017-11-28            0.0        45        39        42           0.0   \n",
       "2017-12-08            0.0        41        35        38           0.9   \n",
       "2017-12-11            0.0        34        33        34           7.4   \n",
       "2017-12-12            0.0        40        34        37           1.3   \n",
       "\n",
       "            sunHour  uvIndex  humidity  precipInches  pressureInches  \\\n",
       "date                                                                   \n",
       "2013-01-16      8.7        1        82           0.0              30   \n",
       "2017-11-28      5.8        2        72           0.0              30   \n",
       "2017-12-08      5.8        1        61           0.0              30   \n",
       "2017-12-11      2.0        2        93           0.3              29   \n",
       "2017-12-12      3.9        1        78           0.0              30   \n",
       "\n",
       "            cloudcover  windspeedMiles  visibilityMiles  lag_1  lag_2  \n",
       "date                                                                   \n",
       "2013-01-16           6               6                6    2.3    5.2  \n",
       "2017-11-28          58              11                6    7.0    3.0  \n",
       "2017-12-08          31              16                6    1.0    1.0  \n",
       "2017-12-11         100              20                1    2.0    3.0  \n",
       "2017-12-12          92              11                5    0.0    2.0  "
      ]
     },
     "execution_count": 27,
     "metadata": {},
     "output_type": "execute_result"
    }
   ],
   "source": [
    "df_all.loc[df_all['generated_kWh'] == 0, :].sort_values('generated_kWh').head()"
   ]
  },
  {
   "cell_type": "markdown",
<<<<<<< HEAD
   "id": "3a0b55ad",
=======
   "id": "02db959b",
>>>>>>> b31230ba1d7921c85dbb6ae2aa32f9536f4192b4
   "metadata": {},
   "source": [
    "Again, the dates are pretty consistently in the winter.\n",
    "\n",
    "Now let's make a heatmap for the target column as well as the overall dataset. There will certainly be multicollinearity here, as this is time-series data:"
   ]
  },
  {
   "cell_type": "code",
<<<<<<< HEAD
   "execution_count": 30,
   "id": "a35ab265",
=======
   "execution_count": 28,
   "id": "df40f5c2",
>>>>>>> b31230ba1d7921c85dbb6ae2aa32f9536f4192b4
   "metadata": {},
   "outputs": [],
   "source": [
    "# Look at the heatmap for the target column, generated_KWh\n",
    "corr = df_all.corr()"
   ]
  },
  {
   "cell_type": "code",
<<<<<<< HEAD
   "execution_count": 32,
   "id": "1fc89ba4",
=======
   "execution_count": 29,
   "id": "257875b2",
>>>>>>> b31230ba1d7921c85dbb6ae2aa32f9536f4192b4
   "metadata": {},
   "outputs": [
    {
     "data": {
      "image/png": "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\n",
      "text/plain": [
       "<Figure size 720x864 with 2 Axes>"
      ]
     },
     "metadata": {
      "needs_background": "light"
     },
     "output_type": "display_data"
    }
   ],
   "source": [
    "plt.figure(figsize=(10, 12))\n",
    "mask = np.zeros_like(corr)\n",
    "mask[np.triu_indices_from(mask)] = True\n",
    "\n",
    "sns.heatmap(corr, cmap='coolwarm',mask=mask,\n",
    "           annot=True, vmin=-1, vmax=1, linewidth=0.1, linecolor='w');"
   ]
  },
  {
   "cell_type": "code",
<<<<<<< HEAD
   "execution_count": 33,
   "id": "e245587e",
=======
   "execution_count": 30,
   "id": "44a125fd",
>>>>>>> b31230ba1d7921c85dbb6ae2aa32f9536f4192b4
   "metadata": {},
   "outputs": [
    {
     "data": {
      "image/png": "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\n",
      "text/plain": [
       "<Figure size 432x720 with 2 Axes>"
      ]
     },
     "metadata": {
      "needs_background": "light"
     },
     "output_type": "display_data"
    }
   ],
   "source": [
    "plt.figure(figsize=(6, 10))\n",
    "sns.heatmap(corr[['generated_kWh']].sort_values('generated_kWh', ascending=False), cmap='coolwarm',\n",
    "           annot=True, vmin=-1, vmax=1, linewidth=0.1, linecolor='w')\n",
    "plt.title('A Heatmap of the Target Column Against the Features', fontsize=18)\n",
    "plt.show()"
   ]
  },
  {
   "cell_type": "markdown",
<<<<<<< HEAD
   "id": "fed6e69b",
=======
   "id": "68201813",
>>>>>>> b31230ba1d7921c85dbb6ae2aa32f9536f4192b4
   "metadata": {},
   "source": [
    "The only features that don't have a decent correlation with the amount of power generated are `precipInches`, `pressureInches`, and `totalSnow_cm`. This makes sense, as these features tend to have constant values throughout the dataset with occasional deviations.\n",
    "\n",
    "Now, let's save this dataframe for use in modeling:"
   ]
  },
  {
   "cell_type": "code",
   "execution_count": 34,
<<<<<<< HEAD
   "id": "8e4a2d35",
=======
   "id": "acaaa226",
>>>>>>> b31230ba1d7921c85dbb6ae2aa32f9536f4192b4
   "metadata": {},
   "outputs": [],
   "source": [
    "# Save to the data folder\n",
    "\n",
    "df_all.to_csv('../data/cleaned_data.csv', index=True)"
   ]
  },
  {
   "cell_type": "markdown",
<<<<<<< HEAD
   "id": "bc5a17b5",
=======
   "id": "5b90a865",
>>>>>>> b31230ba1d7921c85dbb6ae2aa32f9536f4192b4
   "metadata": {},
   "source": [
    "### Resources\n",
    "\n",
    "1. https://en.wikipedia.org/wiki/Solar_power\n",
    "2. https://www.energy.gov/eere/solar/solar-photovoltaic-technology-basics\n",
    "3. https://en.wikipedia.org/wiki/Photovoltaic_system\n",
    "4. https://www.ysgsolar.com/blog/which-solar-panels-are-best-modules-install-your-home-ysg-solar\n",
    "5. https://sunshinerenewable.com/s-energy-solar-panels/\n",
    "6. https://www.climatestotravel.com/climate/belgium/antwerp\n",
    "7. https://www.kaggle.com/fvcoppen/solarpanelspower\n",
    "8. https://www.worldweatheronline.com/\n",
    "9. https://www.worldweatheronline.com/developer/api/docs/historical-weather-api.aspx#qparameter"
   ]
  }
 ],
 "metadata": {
  "kernelspec": {
   "display_name": "Python 3",
   "language": "python",
   "name": "python3"
  },
  "language_info": {
   "codemirror_mode": {
    "name": "ipython",
    "version": 3
   },
   "file_extension": ".py",
   "mimetype": "text/x-python",
   "name": "python",
   "nbconvert_exporter": "python",
   "pygments_lexer": "ipython3",
   "version": "3.8.8"
  }
 },
 "nbformat": 4,
 "nbformat_minor": 5
}
